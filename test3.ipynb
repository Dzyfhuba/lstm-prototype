{
 "cells": [
  {
   "cell_type": "code",
   "execution_count": 1,
   "metadata": {},
   "outputs": [],
   "source": [
    "import numpy as np\n",
    "import pandas as pd\n",
    "import math\n",
    "import torch\n",
    "from torch import nn\n",
    "import matplotlib.pyplot as plt\n",
    "from sklearn.preprocessing import MinMaxScaler\n",
    "from sklearn.model_selection import train_test_split\n",
    "from datetime import datetime\n"
   ]
  },
  {
   "cell_type": "markdown",
   "metadata": {},
   "source": [
    "# Import"
   ]
  },
  {
   "cell_type": "code",
   "execution_count": 2,
   "metadata": {},
   "outputs": [],
   "source": [
    "df_raw = pd.read_excel('West_Pangkah_WP-02_Production_test_1505211.xls', skiprows=6)"
   ]
  },
  {
   "cell_type": "code",
   "execution_count": 3,
   "metadata": {},
   "outputs": [],
   "source": [
    "df_raw2 = df_raw[['Time', 'WELL HEAD', 'Unnamed: 2', 'SEPARATOR', 'Unnamed: 9', 'Unnamed: 12', 'Unnamed: 13']].copy()\n",
    "columns = ['datetime', 'choke', 'psig', 'apsig', 'oil', 'gas', 'water']\n",
    "df_raw3 = df_raw2.rename(columns={\n",
    "  'Time': 'datetime', \n",
    "  'WELL HEAD': 'choke', \n",
    "  'Unnamed: 2': 'psig',\n",
    "  'SEPARATOR': 'apsig',\n",
    "  'Unnamed: 9': 'oil',\n",
    "  'Unnamed: 12': 'gas',\n",
    "  'Unnamed: 13': 'water',\n",
    "  })"
   ]
  },
  {
   "cell_type": "code",
   "execution_count": 4,
   "metadata": {},
   "outputs": [],
   "source": [
    "df_raw4 = df_raw3.iloc[2:]"
   ]
  },
  {
   "cell_type": "code",
   "execution_count": 5,
   "metadata": {},
   "outputs": [],
   "source": [
    "df_raw4.to_csv('data2.csv', index=False)"
   ]
  },
  {
   "cell_type": "code",
   "execution_count": 6,
   "metadata": {},
   "outputs": [],
   "source": [
    "df_raw4 = pd.read_csv('data2.csv')"
   ]
  },
  {
   "cell_type": "code",
   "execution_count": 7,
   "metadata": {},
   "outputs": [],
   "source": [
    "df_raw4 = df_raw4.dropna(how='all')"
   ]
  },
  {
   "cell_type": "code",
   "execution_count": 8,
   "metadata": {},
   "outputs": [
    {
     "data": {
      "text/html": [
       "<div>\n",
       "<style scoped>\n",
       "    .dataframe tbody tr th:only-of-type {\n",
       "        vertical-align: middle;\n",
       "    }\n",
       "\n",
       "    .dataframe tbody tr th {\n",
       "        vertical-align: top;\n",
       "    }\n",
       "\n",
       "    .dataframe thead th {\n",
       "        text-align: right;\n",
       "    }\n",
       "</style>\n",
       "<table border=\"1\" class=\"dataframe\">\n",
       "  <thead>\n",
       "    <tr style=\"text-align: right;\">\n",
       "      <th></th>\n",
       "      <th>datetime</th>\n",
       "      <th>choke</th>\n",
       "      <th>psig</th>\n",
       "      <th>apsig</th>\n",
       "      <th>oil</th>\n",
       "      <th>gas</th>\n",
       "      <th>water</th>\n",
       "    </tr>\n",
       "  </thead>\n",
       "  <tbody>\n",
       "    <tr>\n",
       "      <th>0</th>\n",
       "      <td>15/5/2021</td>\n",
       "      <td>NaN</td>\n",
       "      <td>NaN</td>\n",
       "      <td>NaN</td>\n",
       "      <td>NaN</td>\n",
       "      <td>NaN</td>\n",
       "      <td>NaN</td>\n",
       "    </tr>\n",
       "    <tr>\n",
       "      <th>1</th>\n",
       "      <td>21:00:00</td>\n",
       "      <td>38.0</td>\n",
       "      <td>935.0</td>\n",
       "      <td>320.0</td>\n",
       "      <td>698.880</td>\n",
       "      <td>4.980</td>\n",
       "      <td>23.616</td>\n",
       "    </tr>\n",
       "    <tr>\n",
       "      <th>2</th>\n",
       "      <td>21:15:00</td>\n",
       "      <td>38.0</td>\n",
       "      <td>935.0</td>\n",
       "      <td>321.0</td>\n",
       "      <td>822.456</td>\n",
       "      <td>4.988</td>\n",
       "      <td>32.592</td>\n",
       "    </tr>\n",
       "    <tr>\n",
       "      <th>3</th>\n",
       "      <td>21:30:00</td>\n",
       "      <td>38.0</td>\n",
       "      <td>940.0</td>\n",
       "      <td>318.0</td>\n",
       "      <td>661.368</td>\n",
       "      <td>5.070</td>\n",
       "      <td>26.208</td>\n",
       "    </tr>\n",
       "    <tr>\n",
       "      <th>4</th>\n",
       "      <td>21:45:00</td>\n",
       "      <td>38.0</td>\n",
       "      <td>938.0</td>\n",
       "      <td>317.0</td>\n",
       "      <td>737.664</td>\n",
       "      <td>5.061</td>\n",
       "      <td>29.232</td>\n",
       "    </tr>\n",
       "    <tr>\n",
       "      <th>...</th>\n",
       "      <td>...</td>\n",
       "      <td>...</td>\n",
       "      <td>...</td>\n",
       "      <td>...</td>\n",
       "      <td>...</td>\n",
       "      <td>...</td>\n",
       "      <td>...</td>\n",
       "    </tr>\n",
       "    <tr>\n",
       "      <th>1954</th>\n",
       "      <td>23:00:00</td>\n",
       "      <td>NaN</td>\n",
       "      <td>NaN</td>\n",
       "      <td>NaN</td>\n",
       "      <td>NaN</td>\n",
       "      <td>NaN</td>\n",
       "      <td>NaN</td>\n",
       "    </tr>\n",
       "    <tr>\n",
       "      <th>1955</th>\n",
       "      <td>23:15:00</td>\n",
       "      <td>NaN</td>\n",
       "      <td>NaN</td>\n",
       "      <td>NaN</td>\n",
       "      <td>NaN</td>\n",
       "      <td>NaN</td>\n",
       "      <td>NaN</td>\n",
       "    </tr>\n",
       "    <tr>\n",
       "      <th>1956</th>\n",
       "      <td>23:30:00</td>\n",
       "      <td>NaN</td>\n",
       "      <td>NaN</td>\n",
       "      <td>NaN</td>\n",
       "      <td>NaN</td>\n",
       "      <td>NaN</td>\n",
       "      <td>NaN</td>\n",
       "    </tr>\n",
       "    <tr>\n",
       "      <th>1957</th>\n",
       "      <td>23:45:00</td>\n",
       "      <td>NaN</td>\n",
       "      <td>NaN</td>\n",
       "      <td>NaN</td>\n",
       "      <td>NaN</td>\n",
       "      <td>NaN</td>\n",
       "      <td>NaN</td>\n",
       "    </tr>\n",
       "    <tr>\n",
       "      <th>1958</th>\n",
       "      <td>1900-01-01 00:00:00</td>\n",
       "      <td>NaN</td>\n",
       "      <td>NaN</td>\n",
       "      <td>NaN</td>\n",
       "      <td>NaN</td>\n",
       "      <td>NaN</td>\n",
       "      <td>NaN</td>\n",
       "    </tr>\n",
       "  </tbody>\n",
       "</table>\n",
       "<p>1959 rows × 7 columns</p>\n",
       "</div>"
      ],
      "text/plain": [
       "                 datetime  choke   psig  apsig      oil    gas   water\n",
       "0               15/5/2021    NaN    NaN    NaN      NaN    NaN     NaN\n",
       "1                21:00:00   38.0  935.0  320.0  698.880  4.980  23.616\n",
       "2                21:15:00   38.0  935.0  321.0  822.456  4.988  32.592\n",
       "3                21:30:00   38.0  940.0  318.0  661.368  5.070  26.208\n",
       "4                21:45:00   38.0  938.0  317.0  737.664  5.061  29.232\n",
       "...                   ...    ...    ...    ...      ...    ...     ...\n",
       "1954             23:00:00    NaN    NaN    NaN      NaN    NaN     NaN\n",
       "1955             23:15:00    NaN    NaN    NaN      NaN    NaN     NaN\n",
       "1956             23:30:00    NaN    NaN    NaN      NaN    NaN     NaN\n",
       "1957             23:45:00    NaN    NaN    NaN      NaN    NaN     NaN\n",
       "1958  1900-01-01 00:00:00    NaN    NaN    NaN      NaN    NaN     NaN\n",
       "\n",
       "[1959 rows x 7 columns]"
      ]
     },
     "execution_count": 8,
     "metadata": {},
     "output_type": "execute_result"
    }
   ],
   "source": [
    "df_raw4"
   ]
  },
  {
   "cell_type": "code",
   "execution_count": 9,
   "metadata": {},
   "outputs": [
    {
     "name": "stdout",
     "output_type": "stream",
     "text": [
      "15/5/2021 is a valid date.\n"
     ]
    }
   ],
   "source": [
    "def is_valid_date(date_string, date_format='%d/%m/%Y'):\n",
    "    try:\n",
    "        datetime.strptime(date_string, date_format)\n",
    "        return True\n",
    "    except ValueError:\n",
    "        return False\n",
    "\n",
    "# Example usage:\n",
    "date_string = '15/5/2021'\n",
    "if is_valid_date(date_string, date_format='%d/%m/%Y'):\n",
    "    print(f'{date_string} is a valid date.')\n",
    "else:\n",
    "    print(f'{date_string} is not a valid date.')"
   ]
  },
  {
   "cell_type": "code",
   "execution_count": 10,
   "metadata": {},
   "outputs": [
    {
     "data": {
      "text/plain": [
       "True"
      ]
     },
     "execution_count": 10,
     "metadata": {},
     "output_type": "execute_result"
    }
   ],
   "source": [
    "is_valid_date(df_raw4.iloc[0]['datetime'])"
   ]
  },
  {
   "cell_type": "code",
   "execution_count": 11,
   "metadata": {},
   "outputs": [],
   "source": [
    "temp = '15/5/2021'\n",
    "df_raw5 = df_raw4.copy()\n",
    "for i in range(df_raw5.shape[0]):\n",
    "  cell = df_raw4.iloc[i]['datetime']\n",
    "  if is_valid_date(cell):\n",
    "    temp = cell\n",
    "  else:\n",
    "    df_raw5.at[i, 'datetime'] = temp + ' ' + df_raw5.at[i, 'datetime']\n",
    "    # temp = ''"
   ]
  },
  {
   "cell_type": "code",
   "execution_count": 12,
   "metadata": {},
   "outputs": [],
   "source": [
    "# df_raw5 = df_raw5[df_raw5['choke'].notna()]"
   ]
  },
  {
   "cell_type": "code",
   "execution_count": 13,
   "metadata": {},
   "outputs": [
    {
     "data": {
      "text/html": [
       "<div>\n",
       "<style scoped>\n",
       "    .dataframe tbody tr th:only-of-type {\n",
       "        vertical-align: middle;\n",
       "    }\n",
       "\n",
       "    .dataframe tbody tr th {\n",
       "        vertical-align: top;\n",
       "    }\n",
       "\n",
       "    .dataframe thead th {\n",
       "        text-align: right;\n",
       "    }\n",
       "</style>\n",
       "<table border=\"1\" class=\"dataframe\">\n",
       "  <thead>\n",
       "    <tr style=\"text-align: right;\">\n",
       "      <th></th>\n",
       "      <th>datetime</th>\n",
       "      <th>choke</th>\n",
       "      <th>psig</th>\n",
       "      <th>apsig</th>\n",
       "      <th>oil</th>\n",
       "      <th>gas</th>\n",
       "      <th>water</th>\n",
       "    </tr>\n",
       "  </thead>\n",
       "  <tbody>\n",
       "    <tr>\n",
       "      <th>0</th>\n",
       "      <td>15/5/2021</td>\n",
       "      <td>NaN</td>\n",
       "      <td>NaN</td>\n",
       "      <td>NaN</td>\n",
       "      <td>NaN</td>\n",
       "      <td>NaN</td>\n",
       "      <td>NaN</td>\n",
       "    </tr>\n",
       "    <tr>\n",
       "      <th>1</th>\n",
       "      <td>15/5/2021 21:00:00</td>\n",
       "      <td>38.0</td>\n",
       "      <td>935.0</td>\n",
       "      <td>320.0</td>\n",
       "      <td>698.880</td>\n",
       "      <td>4.980</td>\n",
       "      <td>23.616</td>\n",
       "    </tr>\n",
       "    <tr>\n",
       "      <th>2</th>\n",
       "      <td>15/5/2021 21:15:00</td>\n",
       "      <td>38.0</td>\n",
       "      <td>935.0</td>\n",
       "      <td>321.0</td>\n",
       "      <td>822.456</td>\n",
       "      <td>4.988</td>\n",
       "      <td>32.592</td>\n",
       "    </tr>\n",
       "    <tr>\n",
       "      <th>3</th>\n",
       "      <td>15/5/2021 21:30:00</td>\n",
       "      <td>38.0</td>\n",
       "      <td>940.0</td>\n",
       "      <td>318.0</td>\n",
       "      <td>661.368</td>\n",
       "      <td>5.070</td>\n",
       "      <td>26.208</td>\n",
       "    </tr>\n",
       "    <tr>\n",
       "      <th>4</th>\n",
       "      <td>15/5/2021 21:45:00</td>\n",
       "      <td>38.0</td>\n",
       "      <td>938.0</td>\n",
       "      <td>317.0</td>\n",
       "      <td>737.664</td>\n",
       "      <td>5.061</td>\n",
       "      <td>29.232</td>\n",
       "    </tr>\n",
       "  </tbody>\n",
       "</table>\n",
       "</div>"
      ],
      "text/plain": [
       "             datetime  choke   psig  apsig      oil    gas   water\n",
       "0           15/5/2021    NaN    NaN    NaN      NaN    NaN     NaN\n",
       "1  15/5/2021 21:00:00   38.0  935.0  320.0  698.880  4.980  23.616\n",
       "2  15/5/2021 21:15:00   38.0  935.0  321.0  822.456  4.988  32.592\n",
       "3  15/5/2021 21:30:00   38.0  940.0  318.0  661.368  5.070  26.208\n",
       "4  15/5/2021 21:45:00   38.0  938.0  317.0  737.664  5.061  29.232"
      ]
     },
     "execution_count": 13,
     "metadata": {},
     "output_type": "execute_result"
    }
   ],
   "source": [
    "df_raw5.head()"
   ]
  },
  {
   "cell_type": "code",
   "execution_count": 14,
   "metadata": {},
   "outputs": [],
   "source": [
    "df_raw5.to_csv('data3.csv', index=False)"
   ]
  },
  {
   "cell_type": "code",
   "execution_count": 15,
   "metadata": {},
   "outputs": [],
   "source": [
    "df_raw6 = pd.read_csv('data3.csv')"
   ]
  },
  {
   "cell_type": "code",
   "execution_count": 21,
   "metadata": {},
   "outputs": [],
   "source": [
    "df_raw6 = df_raw6.dropna(subset=['choke'])"
   ]
  },
  {
   "cell_type": "code",
   "execution_count": 23,
   "metadata": {},
   "outputs": [],
   "source": [
    "df_raw6.to_csv('data4.csv', index=False)"
   ]
  },
  {
   "cell_type": "code",
   "execution_count": null,
   "metadata": {},
   "outputs": [],
   "source": []
  }
 ],
 "metadata": {
  "kernelspec": {
   "display_name": "kerasenv",
   "language": "python",
   "name": "python3"
  },
  "language_info": {
   "codemirror_mode": {
    "name": "ipython",
    "version": 3
   },
   "file_extension": ".py",
   "mimetype": "text/x-python",
   "name": "python",
   "nbconvert_exporter": "python",
   "pygments_lexer": "ipython3",
   "version": "3.11.5"
  }
 },
 "nbformat": 4,
 "nbformat_minor": 2
}
