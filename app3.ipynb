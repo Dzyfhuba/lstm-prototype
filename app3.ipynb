{
 "cells": [
  {
   "cell_type": "code",
   "execution_count": 1,
   "metadata": {},
   "outputs": [],
   "source": [
    "import numpy as np\n",
    "import pandas as pd\n",
    "import math\n",
    "import matplotlib.pyplot as plt"
   ]
  },
  {
   "cell_type": "code",
   "execution_count": 2,
   "metadata": {},
   "outputs": [],
   "source": [
    "columns = ['datetime','choke','psig','apsig','oil','gas','water']\n",
    "columns2 = ['choke','psig','apsig','oil','gas','water']"
   ]
  },
  {
   "cell_type": "code",
   "execution_count": 3,
   "metadata": {},
   "outputs": [],
   "source": [
    "df_raw = pd.read_csv('final.csv')\n",
    "\n",
    "# use 100 data only\n",
    "# df_raw = df_raw.head(100)\n",
    "\n",
    "df_raw = df_raw.set_index('datetime')"
   ]
  },
  {
   "cell_type": "code",
   "execution_count": 4,
   "metadata": {},
   "outputs": [
    {
     "data": {
      "text/html": [
       "<div>\n",
       "<style scoped>\n",
       "    .dataframe tbody tr th:only-of-type {\n",
       "        vertical-align: middle;\n",
       "    }\n",
       "\n",
       "    .dataframe tbody tr th {\n",
       "        vertical-align: top;\n",
       "    }\n",
       "\n",
       "    .dataframe thead th {\n",
       "        text-align: right;\n",
       "    }\n",
       "</style>\n",
       "<table border=\"1\" class=\"dataframe\">\n",
       "  <thead>\n",
       "    <tr style=\"text-align: right;\">\n",
       "      <th></th>\n",
       "      <th>choke</th>\n",
       "      <th>psig</th>\n",
       "      <th>apsig</th>\n",
       "      <th>oil</th>\n",
       "      <th>gas</th>\n",
       "      <th>water</th>\n",
       "    </tr>\n",
       "    <tr>\n",
       "      <th>datetime</th>\n",
       "      <th></th>\n",
       "      <th></th>\n",
       "      <th></th>\n",
       "      <th></th>\n",
       "      <th></th>\n",
       "      <th></th>\n",
       "    </tr>\n",
       "  </thead>\n",
       "  <tbody>\n",
       "    <tr>\n",
       "      <th>15/5/2021 21:00:00</th>\n",
       "      <td>38</td>\n",
       "      <td>935</td>\n",
       "      <td>320</td>\n",
       "      <td>698.880</td>\n",
       "      <td>4.980</td>\n",
       "      <td>23.616</td>\n",
       "    </tr>\n",
       "    <tr>\n",
       "      <th>15/5/2021 21:15:00</th>\n",
       "      <td>38</td>\n",
       "      <td>935</td>\n",
       "      <td>321</td>\n",
       "      <td>822.456</td>\n",
       "      <td>4.988</td>\n",
       "      <td>32.592</td>\n",
       "    </tr>\n",
       "    <tr>\n",
       "      <th>15/5/2021 21:30:00</th>\n",
       "      <td>38</td>\n",
       "      <td>940</td>\n",
       "      <td>318</td>\n",
       "      <td>661.368</td>\n",
       "      <td>5.070</td>\n",
       "      <td>26.208</td>\n",
       "    </tr>\n",
       "    <tr>\n",
       "      <th>15/5/2021 21:45:00</th>\n",
       "      <td>38</td>\n",
       "      <td>938</td>\n",
       "      <td>317</td>\n",
       "      <td>737.664</td>\n",
       "      <td>5.061</td>\n",
       "      <td>29.232</td>\n",
       "    </tr>\n",
       "    <tr>\n",
       "      <th>15/5/2021 22:00:00</th>\n",
       "      <td>38</td>\n",
       "      <td>940</td>\n",
       "      <td>319</td>\n",
       "      <td>661.368</td>\n",
       "      <td>5.078</td>\n",
       "      <td>26.208</td>\n",
       "    </tr>\n",
       "    <tr>\n",
       "      <th>...</th>\n",
       "      <td>...</td>\n",
       "      <td>...</td>\n",
       "      <td>...</td>\n",
       "      <td>...</td>\n",
       "      <td>...</td>\n",
       "      <td>...</td>\n",
       "    </tr>\n",
       "    <tr>\n",
       "      <th>4/6/2021 08:00:00</th>\n",
       "      <td>42</td>\n",
       "      <td>986</td>\n",
       "      <td>328</td>\n",
       "      <td>771.720</td>\n",
       "      <td>7.638</td>\n",
       "      <td>16.896</td>\n",
       "    </tr>\n",
       "    <tr>\n",
       "      <th>4/6/2021 08:15:00</th>\n",
       "      <td>42</td>\n",
       "      <td>984</td>\n",
       "      <td>325</td>\n",
       "      <td>766.032</td>\n",
       "      <td>7.602</td>\n",
       "      <td>16.704</td>\n",
       "    </tr>\n",
       "    <tr>\n",
       "      <th>4/6/2021 08:30:00</th>\n",
       "      <td>42</td>\n",
       "      <td>986</td>\n",
       "      <td>328</td>\n",
       "      <td>765.216</td>\n",
       "      <td>7.638</td>\n",
       "      <td>16.704</td>\n",
       "    </tr>\n",
       "    <tr>\n",
       "      <th>4/6/2021 08:45:00</th>\n",
       "      <td>42</td>\n",
       "      <td>988</td>\n",
       "      <td>326</td>\n",
       "      <td>757.224</td>\n",
       "      <td>7.614</td>\n",
       "      <td>16.512</td>\n",
       "    </tr>\n",
       "    <tr>\n",
       "      <th>4/6/2021 09:00:00</th>\n",
       "      <td>42</td>\n",
       "      <td>987</td>\n",
       "      <td>328</td>\n",
       "      <td>765.216</td>\n",
       "      <td>7.638</td>\n",
       "      <td>16.704</td>\n",
       "    </tr>\n",
       "  </tbody>\n",
       "</table>\n",
       "<p>1878 rows × 6 columns</p>\n",
       "</div>"
      ],
      "text/plain": [
       "                    choke  psig  apsig      oil    gas   water\n",
       "datetime                                                      \n",
       "15/5/2021 21:00:00     38   935    320  698.880  4.980  23.616\n",
       "15/5/2021 21:15:00     38   935    321  822.456  4.988  32.592\n",
       "15/5/2021 21:30:00     38   940    318  661.368  5.070  26.208\n",
       "15/5/2021 21:45:00     38   938    317  737.664  5.061  29.232\n",
       "15/5/2021 22:00:00     38   940    319  661.368  5.078  26.208\n",
       "...                   ...   ...    ...      ...    ...     ...\n",
       "4/6/2021 08:00:00      42   986    328  771.720  7.638  16.896\n",
       "4/6/2021 08:15:00      42   984    325  766.032  7.602  16.704\n",
       "4/6/2021 08:30:00      42   986    328  765.216  7.638  16.704\n",
       "4/6/2021 08:45:00      42   988    326  757.224  7.614  16.512\n",
       "4/6/2021 09:00:00      42   987    328  765.216  7.638  16.704\n",
       "\n",
       "[1878 rows x 6 columns]"
      ]
     },
     "execution_count": 4,
     "metadata": {},
     "output_type": "execute_result"
    }
   ],
   "source": [
    "df_raw"
   ]
  },
  {
   "cell_type": "markdown",
   "metadata": {},
   "source": [
    "# normalization min max"
   ]
  },
  {
   "cell_type": "code",
   "execution_count": 5,
   "metadata": {},
   "outputs": [],
   "source": [
    "def minmax_normalize(df):\n",
    "    return (df - df.min()) / (df.max() - df.min())\n",
    "    "
   ]
  },
  {
   "cell_type": "code",
   "execution_count": 6,
   "metadata": {},
   "outputs": [
    {
     "data": {
      "text/html": [
       "<div>\n",
       "<style scoped>\n",
       "    .dataframe tbody tr th:only-of-type {\n",
       "        vertical-align: middle;\n",
       "    }\n",
       "\n",
       "    .dataframe tbody tr th {\n",
       "        vertical-align: top;\n",
       "    }\n",
       "\n",
       "    .dataframe thead th {\n",
       "        text-align: right;\n",
       "    }\n",
       "</style>\n",
       "<table border=\"1\" class=\"dataframe\">\n",
       "  <thead>\n",
       "    <tr style=\"text-align: right;\">\n",
       "      <th></th>\n",
       "      <th>choke</th>\n",
       "      <th>psig</th>\n",
       "      <th>apsig</th>\n",
       "      <th>oil</th>\n",
       "      <th>gas</th>\n",
       "      <th>water</th>\n",
       "    </tr>\n",
       "    <tr>\n",
       "      <th>datetime</th>\n",
       "      <th></th>\n",
       "      <th></th>\n",
       "      <th></th>\n",
       "      <th></th>\n",
       "      <th></th>\n",
       "      <th></th>\n",
       "    </tr>\n",
       "  </thead>\n",
       "  <tbody>\n",
       "    <tr>\n",
       "      <th>15/5/2021 21:00:00</th>\n",
       "      <td>0.0</td>\n",
       "      <td>0.431034</td>\n",
       "      <td>0.444444</td>\n",
       "      <td>0.311858</td>\n",
       "      <td>0.080260</td>\n",
       "      <td>0.417431</td>\n",
       "    </tr>\n",
       "    <tr>\n",
       "      <th>15/5/2021 21:15:00</th>\n",
       "      <td>0.0</td>\n",
       "      <td>0.431034</td>\n",
       "      <td>0.472222</td>\n",
       "      <td>0.748918</td>\n",
       "      <td>0.082992</td>\n",
       "      <td>0.631881</td>\n",
       "    </tr>\n",
       "    <tr>\n",
       "      <th>15/5/2021 21:30:00</th>\n",
       "      <td>0.0</td>\n",
       "      <td>0.452586</td>\n",
       "      <td>0.388889</td>\n",
       "      <td>0.179187</td>\n",
       "      <td>0.110997</td>\n",
       "      <td>0.479358</td>\n",
       "    </tr>\n",
       "    <tr>\n",
       "      <th>15/5/2021 21:45:00</th>\n",
       "      <td>0.0</td>\n",
       "      <td>0.443966</td>\n",
       "      <td>0.361111</td>\n",
       "      <td>0.449028</td>\n",
       "      <td>0.107923</td>\n",
       "      <td>0.551606</td>\n",
       "    </tr>\n",
       "    <tr>\n",
       "      <th>15/5/2021 22:00:00</th>\n",
       "      <td>0.0</td>\n",
       "      <td>0.452586</td>\n",
       "      <td>0.416667</td>\n",
       "      <td>0.179187</td>\n",
       "      <td>0.113730</td>\n",
       "      <td>0.479358</td>\n",
       "    </tr>\n",
       "    <tr>\n",
       "      <th>...</th>\n",
       "      <td>...</td>\n",
       "      <td>...</td>\n",
       "      <td>...</td>\n",
       "      <td>...</td>\n",
       "      <td>...</td>\n",
       "      <td>...</td>\n",
       "    </tr>\n",
       "    <tr>\n",
       "      <th>4/6/2021 08:00:00</th>\n",
       "      <td>1.0</td>\n",
       "      <td>0.650862</td>\n",
       "      <td>0.666667</td>\n",
       "      <td>0.569476</td>\n",
       "      <td>0.988046</td>\n",
       "      <td>0.256881</td>\n",
       "    </tr>\n",
       "    <tr>\n",
       "      <th>4/6/2021 08:15:00</th>\n",
       "      <td>1.0</td>\n",
       "      <td>0.642241</td>\n",
       "      <td>0.583333</td>\n",
       "      <td>0.549359</td>\n",
       "      <td>0.975751</td>\n",
       "      <td>0.252294</td>\n",
       "    </tr>\n",
       "    <tr>\n",
       "      <th>4/6/2021 08:30:00</th>\n",
       "      <td>1.0</td>\n",
       "      <td>0.650862</td>\n",
       "      <td>0.666667</td>\n",
       "      <td>0.546473</td>\n",
       "      <td>0.988046</td>\n",
       "      <td>0.252294</td>\n",
       "    </tr>\n",
       "    <tr>\n",
       "      <th>4/6/2021 08:45:00</th>\n",
       "      <td>1.0</td>\n",
       "      <td>0.659483</td>\n",
       "      <td>0.611111</td>\n",
       "      <td>0.518207</td>\n",
       "      <td>0.979850</td>\n",
       "      <td>0.247706</td>\n",
       "    </tr>\n",
       "    <tr>\n",
       "      <th>4/6/2021 09:00:00</th>\n",
       "      <td>1.0</td>\n",
       "      <td>0.655172</td>\n",
       "      <td>0.666667</td>\n",
       "      <td>0.546473</td>\n",
       "      <td>0.988046</td>\n",
       "      <td>0.252294</td>\n",
       "    </tr>\n",
       "  </tbody>\n",
       "</table>\n",
       "<p>1878 rows × 6 columns</p>\n",
       "</div>"
      ],
      "text/plain": [
       "                    choke      psig     apsig       oil       gas     water\n",
       "datetime                                                                   \n",
       "15/5/2021 21:00:00    0.0  0.431034  0.444444  0.311858  0.080260  0.417431\n",
       "15/5/2021 21:15:00    0.0  0.431034  0.472222  0.748918  0.082992  0.631881\n",
       "15/5/2021 21:30:00    0.0  0.452586  0.388889  0.179187  0.110997  0.479358\n",
       "15/5/2021 21:45:00    0.0  0.443966  0.361111  0.449028  0.107923  0.551606\n",
       "15/5/2021 22:00:00    0.0  0.452586  0.416667  0.179187  0.113730  0.479358\n",
       "...                   ...       ...       ...       ...       ...       ...\n",
       "4/6/2021 08:00:00     1.0  0.650862  0.666667  0.569476  0.988046  0.256881\n",
       "4/6/2021 08:15:00     1.0  0.642241  0.583333  0.549359  0.975751  0.252294\n",
       "4/6/2021 08:30:00     1.0  0.650862  0.666667  0.546473  0.988046  0.252294\n",
       "4/6/2021 08:45:00     1.0  0.659483  0.611111  0.518207  0.979850  0.247706\n",
       "4/6/2021 09:00:00     1.0  0.655172  0.666667  0.546473  0.988046  0.252294\n",
       "\n",
       "[1878 rows x 6 columns]"
      ]
     },
     "execution_count": 6,
     "metadata": {},
     "output_type": "execute_result"
    }
   ],
   "source": [
    "df_normalized = df_raw.copy()\n",
    "df_normalized[columns2] = minmax_normalize(df_normalized[columns2])\n",
    "\n",
    "df_normalized"
   ]
  },
  {
   "cell_type": "code",
   "execution_count": 7,
   "metadata": {},
   "outputs": [
    {
     "data": {
      "text/html": [
       "<div>\n",
       "<style scoped>\n",
       "    .dataframe tbody tr th:only-of-type {\n",
       "        vertical-align: middle;\n",
       "    }\n",
       "\n",
       "    .dataframe tbody tr th {\n",
       "        vertical-align: top;\n",
       "    }\n",
       "\n",
       "    .dataframe thead th {\n",
       "        text-align: right;\n",
       "    }\n",
       "</style>\n",
       "<table border=\"1\" class=\"dataframe\">\n",
       "  <thead>\n",
       "    <tr style=\"text-align: right;\">\n",
       "      <th></th>\n",
       "      <th>choke</th>\n",
       "      <th>psig</th>\n",
       "      <th>apsig</th>\n",
       "      <th>oil</th>\n",
       "      <th>gas</th>\n",
       "      <th>water</th>\n",
       "    </tr>\n",
       "  </thead>\n",
       "  <tbody>\n",
       "    <tr>\n",
       "      <th>count</th>\n",
       "      <td>1878.000000</td>\n",
       "      <td>1878.000000</td>\n",
       "      <td>1878.000000</td>\n",
       "      <td>1878.000000</td>\n",
       "      <td>1878.000000</td>\n",
       "      <td>1878.000000</td>\n",
       "    </tr>\n",
       "    <tr>\n",
       "      <th>mean</th>\n",
       "      <td>0.373536</td>\n",
       "      <td>0.746895</td>\n",
       "      <td>0.666164</td>\n",
       "      <td>0.568969</td>\n",
       "      <td>0.655763</td>\n",
       "      <td>0.256388</td>\n",
       "    </tr>\n",
       "    <tr>\n",
       "      <th>std</th>\n",
       "      <td>0.384998</td>\n",
       "      <td>0.220544</td>\n",
       "      <td>0.183364</td>\n",
       "      <td>0.136035</td>\n",
       "      <td>0.256358</td>\n",
       "      <td>0.125876</td>\n",
       "    </tr>\n",
       "    <tr>\n",
       "      <th>min</th>\n",
       "      <td>0.000000</td>\n",
       "      <td>0.000000</td>\n",
       "      <td>0.000000</td>\n",
       "      <td>0.000000</td>\n",
       "      <td>0.000000</td>\n",
       "      <td>0.000000</td>\n",
       "    </tr>\n",
       "    <tr>\n",
       "      <th>25%</th>\n",
       "      <td>0.000000</td>\n",
       "      <td>0.659483</td>\n",
       "      <td>0.583333</td>\n",
       "      <td>0.466429</td>\n",
       "      <td>0.532275</td>\n",
       "      <td>0.233945</td>\n",
       "    </tr>\n",
       "    <tr>\n",
       "      <th>50%</th>\n",
       "      <td>0.500000</td>\n",
       "      <td>0.803879</td>\n",
       "      <td>0.666667</td>\n",
       "      <td>0.572023</td>\n",
       "      <td>0.764686</td>\n",
       "      <td>0.256881</td>\n",
       "    </tr>\n",
       "    <tr>\n",
       "      <th>75%</th>\n",
       "      <td>0.500000</td>\n",
       "      <td>0.922414</td>\n",
       "      <td>0.777778</td>\n",
       "      <td>0.670911</td>\n",
       "      <td>0.805328</td>\n",
       "      <td>0.275229</td>\n",
       "    </tr>\n",
       "    <tr>\n",
       "      <th>max</th>\n",
       "      <td>1.000000</td>\n",
       "      <td>1.000000</td>\n",
       "      <td>1.000000</td>\n",
       "      <td>1.000000</td>\n",
       "      <td>1.000000</td>\n",
       "      <td>1.000000</td>\n",
       "    </tr>\n",
       "  </tbody>\n",
       "</table>\n",
       "</div>"
      ],
      "text/plain": [
       "             choke         psig        apsig          oil          gas  \\\n",
       "count  1878.000000  1878.000000  1878.000000  1878.000000  1878.000000   \n",
       "mean      0.373536     0.746895     0.666164     0.568969     0.655763   \n",
       "std       0.384998     0.220544     0.183364     0.136035     0.256358   \n",
       "min       0.000000     0.000000     0.000000     0.000000     0.000000   \n",
       "25%       0.000000     0.659483     0.583333     0.466429     0.532275   \n",
       "50%       0.500000     0.803879     0.666667     0.572023     0.764686   \n",
       "75%       0.500000     0.922414     0.777778     0.670911     0.805328   \n",
       "max       1.000000     1.000000     1.000000     1.000000     1.000000   \n",
       "\n",
       "             water  \n",
       "count  1878.000000  \n",
       "mean      0.256388  \n",
       "std       0.125876  \n",
       "min       0.000000  \n",
       "25%       0.233945  \n",
       "50%       0.256881  \n",
       "75%       0.275229  \n",
       "max       1.000000  "
      ]
     },
     "execution_count": 7,
     "metadata": {},
     "output_type": "execute_result"
    }
   ],
   "source": [
    "df_normalized.describe()"
   ]
  },
  {
   "cell_type": "code",
   "execution_count": 8,
   "metadata": {},
   "outputs": [],
   "source": [
    "def plot_rows(df, columns):\n",
    "    fig, ax = plt.subplots(len(columns), 1, figsize=(10, 10))\n",
    "    for i, column in enumerate(columns):\n",
    "        ax[i].plot(df.index, df[column])\n",
    "        # reduce x label\n",
    "        ax[i].set_xticks(ax[i].get_xticks()[::30])\n",
    "        ax[i].set_title(column)\n",
    "    plt.show()"
   ]
  },
  {
   "cell_type": "code",
   "execution_count": 9,
   "metadata": {},
   "outputs": [
    {
     "data": {
      "image/png": "[encoded data removed]",
      "text/plain": [
       "<Figure size 1000x1000 with 6 Axes>"
      ]
     },
     "metadata": {},
     "output_type": "display_data"
    }
   ],
   "source": [
    "plot_rows(df_normalized, columns2)"
   ]
  },
  {
   "cell_type": "markdown",
   "metadata": {},
   "source": [
    "# Reference\n",
    "- https://medium.com/analytics-vidhya/lstms-explained-a-complete-technically-accurate-conceptual-guide-with-keras-2a650327e8f2\n",
    "- https://bobrupakroy.medium.com/multivariate-multistep-lstm-38d9536a6b2e"
   ]
  },
  {
   "cell_type": "markdown",
   "metadata": {},
   "source": [
    "![lstm_model](lstm_model.png)"
   ]
  },
  {
   "cell_type": "code",
   "execution_count": 10,
   "metadata": {},
   "outputs": [],
   "source": [
    "from sklearn.preprocessing import LabelEncoder"
   ]
  },
  {
   "cell_type": "code",
   "execution_count": 11,
   "metadata": {},
   "outputs": [],
   "source": [
    "t = df_raw.columns.tolist()\n",
    "dataset = df_raw.values"
   ]
  },
  {
   "cell_type": "code",
   "execution_count": 12,
   "metadata": {},
   "outputs": [
    {
     "data": {
      "text/html": [
       "<div>\n",
       "<style scoped>\n",
       "    .dataframe tbody tr th:only-of-type {\n",
       "        vertical-align: middle;\n",
       "    }\n",
       "\n",
       "    .dataframe tbody tr th {\n",
       "        vertical-align: top;\n",
       "    }\n",
       "\n",
       "    .dataframe thead th {\n",
       "        text-align: right;\n",
       "    }\n",
       "</style>\n",
       "<table border=\"1\" class=\"dataframe\">\n",
       "  <thead>\n",
       "    <tr style=\"text-align: right;\">\n",
       "      <th></th>\n",
       "      <th>choke</th>\n",
       "      <th>psig</th>\n",
       "      <th>apsig</th>\n",
       "      <th>oil</th>\n",
       "      <th>gas</th>\n",
       "      <th>water</th>\n",
       "    </tr>\n",
       "  </thead>\n",
       "  <tbody>\n",
       "    <tr>\n",
       "      <th>0</th>\n",
       "      <td>38.0</td>\n",
       "      <td>935.0</td>\n",
       "      <td>320.0</td>\n",
       "      <td>698.880</td>\n",
       "      <td>4.980</td>\n",
       "      <td>23.616</td>\n",
       "    </tr>\n",
       "    <tr>\n",
       "      <th>1</th>\n",
       "      <td>38.0</td>\n",
       "      <td>935.0</td>\n",
       "      <td>321.0</td>\n",
       "      <td>822.456</td>\n",
       "      <td>4.988</td>\n",
       "      <td>32.592</td>\n",
       "    </tr>\n",
       "    <tr>\n",
       "      <th>2</th>\n",
       "      <td>38.0</td>\n",
       "      <td>940.0</td>\n",
       "      <td>318.0</td>\n",
       "      <td>661.368</td>\n",
       "      <td>5.070</td>\n",
       "      <td>26.208</td>\n",
       "    </tr>\n",
       "    <tr>\n",
       "      <th>3</th>\n",
       "      <td>38.0</td>\n",
       "      <td>938.0</td>\n",
       "      <td>317.0</td>\n",
       "      <td>737.664</td>\n",
       "      <td>5.061</td>\n",
       "      <td>29.232</td>\n",
       "    </tr>\n",
       "    <tr>\n",
       "      <th>4</th>\n",
       "      <td>38.0</td>\n",
       "      <td>940.0</td>\n",
       "      <td>319.0</td>\n",
       "      <td>661.368</td>\n",
       "      <td>5.078</td>\n",
       "      <td>26.208</td>\n",
       "    </tr>\n",
       "  </tbody>\n",
       "</table>\n",
       "</div>"
      ],
      "text/plain": [
       "   choke   psig  apsig      oil    gas   water\n",
       "0   38.0  935.0  320.0  698.880  4.980  23.616\n",
       "1   38.0  935.0  321.0  822.456  4.988  32.592\n",
       "2   38.0  940.0  318.0  661.368  5.070  26.208\n",
       "3   38.0  938.0  317.0  737.664  5.061  29.232\n",
       "4   38.0  940.0  319.0  661.368  5.078  26.208"
      ]
     },
     "execution_count": 12,
     "metadata": {},
     "output_type": "execute_result"
    }
   ],
   "source": [
    "# convert to pandas dataframe\n",
    "df = pd.DataFrame(dataset, columns=columns2)\n",
    "df.head()"
   ]
  },
  {
   "cell_type": "code",
   "execution_count": 13,
   "metadata": {},
   "outputs": [],
   "source": [
    "# data pre-processing\n",
    "x_1 = df['choke'].values\n",
    "x_2 = df['psig'].values\n",
    "x_3 = df['apsig'].values\n",
    "y_1 = df['oil'].values\n",
    "y_2 = df['gas'].values\n",
    "y_3 = df['water'].values"
   ]
  },
  {
   "cell_type": "code",
   "execution_count": 14,
   "metadata": {},
   "outputs": [
    {
     "name": "stdout",
     "output_type": "stream",
     "text": [
      "x_1 shape: (1878,)\n",
      "x_2 shape: (1878,)\n",
      "x_3 shape: (1878,)\n",
      "y_1 shape: (1878,)\n",
      "y_2 shape: (1878,)\n",
      "y_3 shape: (1878,)\n",
      "x_1 data: [38. 38. 38. ... 42. 42. 42.]\n"
     ]
    }
   ],
   "source": [
    "print('x_1 shape:', x_1.shape)\n",
    "print('x_2 shape:', x_2.shape)\n",
    "print('x_3 shape:', x_3.shape)\n",
    "print('y_1 shape:', y_1.shape)\n",
    "print('y_2 shape:', y_2.shape)\n",
    "print('y_3 shape:', y_3.shape)\n",
    "print('x_1 data:', x_1)"
   ]
  },
  {
   "cell_type": "code",
   "execution_count": 15,
   "metadata": {},
   "outputs": [
    {
     "name": "stdout",
     "output_type": "stream",
     "text": [
      "x_1 shape: (1878, 1)\n",
      "x_2 shape: (1878, 1)\n",
      "x_3 shape: (1878, 1)\n",
      "y_1 shape: (1878, 1)\n",
      "y_2 shape: (1878, 1)\n",
      "y_3 shape: (1878, 1)\n",
      "x_1 data: [[38.]\n",
      " [38.]\n",
      " [38.]\n",
      " ...\n",
      " [42.]\n",
      " [42.]\n",
      " [42.]]\n"
     ]
    }
   ],
   "source": [
    "# reshape\n",
    "x_1 = x_1.reshape(len(x_1), 1)\n",
    "x_2 = x_2.reshape(len(x_2), 1)\n",
    "x_3 = x_3.reshape(len(x_3), 1)\n",
    "y_1 = y_1.reshape(len(y_1), 1)\n",
    "y_2 = y_2.reshape(len(y_2), 1)\n",
    "y_3 = y_3.reshape(len(y_3), 1)\n",
    "\n",
    "print('x_1 shape:', x_1.shape)\n",
    "print('x_2 shape:', x_2.shape)\n",
    "print('x_3 shape:', x_3.shape)\n",
    "print('y_1 shape:', y_1.shape)\n",
    "print('y_2 shape:', y_2.shape)\n",
    "print('y_3 shape:', y_3.shape)\n",
    "\n",
    "print('x_1 data:', x_1)"
   ]
  },
  {
   "cell_type": "code",
   "execution_count": 16,
   "metadata": {},
   "outputs": [],
   "source": [
    "# MinMaxScaler\n",
    "from sklearn.preprocessing import MinMaxScaler"
   ]
  },
  {
   "cell_type": "code",
   "execution_count": 17,
   "metadata": {},
   "outputs": [
    {
     "name": "stdout",
     "output_type": "stream",
     "text": [
      "x_2_scaled: [[0.43103448]\n",
      " [0.43103448]\n",
      " [0.45258621]\n",
      " [0.44396552]\n",
      " [0.45258621]]\n"
     ]
    }
   ],
   "source": [
    "# scaling\n",
    "scaler = MinMaxScaler(feature_range=(0, 1))\n",
    "x_1_scaled = scaler.fit_transform(x_1)\n",
    "x_2_scaled = scaler.fit_transform(x_2)\n",
    "x_3_scaled = scaler.fit_transform(x_3)\n",
    "y_1_scaled = scaler.fit_transform(y_1)\n",
    "y_2_scaled = scaler.fit_transform(y_2)\n",
    "y_3_scaled = scaler.fit_transform(y_3)\n",
    "\n",
    "print('x_2_scaled:', x_2_scaled[:5])"
   ]
  },
  {
   "cell_type": "code",
   "execution_count": 18,
   "metadata": {},
   "outputs": [
    {
     "name": "stdout",
     "output_type": "stream",
     "text": [
      "dataset_scaled.shape: (1878, 4)\n",
      "dataset_scaled: [[0.         0.43103448 0.44444444 0.31185808]\n",
      " [0.         0.43103448 0.47222222 0.74891775]\n",
      " [0.         0.45258621 0.38888889 0.17918683]\n",
      " [0.         0.44396552 0.36111111 0.4490281 ]\n",
      " [0.         0.45258621 0.41666667 0.17918683]]\n"
     ]
    }
   ],
   "source": [
    "# horizontally stack columns\n",
    "# dataset_scaled = np.hstack((x_1_scaled, x_2_scaled, x_3_scaled, y_1_scaled, y_2_scaled, y_3_scaled))\n",
    "dataset_scaled = np.hstack((x_1_scaled, x_2_scaled, x_3_scaled, y_1_scaled))\n",
    "print(\"dataset_scaled.shape:\", dataset_scaled.shape)\n",
    "print(\"dataset_scaled:\", dataset_scaled[:5])"
   ]
  },
  {
   "cell_type": "code",
   "execution_count": 19,
   "metadata": {},
   "outputs": [],
   "source": [
    "#1. n_steps_in  : Specify how much data we want to look back for prediction\n",
    "#2. n_steps_out : Specify how much multi-step data we want to forecast\n",
    "\n",
    "def split_sequences(sequences, n_steps_in, n_steps_out):\n",
    "  X, y = list(), list()\n",
    "  for i in range(len(sequences)):\n",
    "    # find the end of this pattern\n",
    "    end_ix = i + n_steps_in\n",
    "    out_end_ix = end_ix + n_steps_out-1\n",
    "    # check if we are beyond the dataset\n",
    "    if out_end_ix > len(sequences):\n",
    "      break\n",
    "    # gather input and output parts of the pattern\n",
    "    seq_x, seq_y = sequences[i:end_ix, :-1], sequences[end_ix-1:out_end_ix, -1]\n",
    "    X.append(seq_x)\n",
    "    y.append(seq_y)\n",
    "  return np.array(X), np.array(y)"
   ]
  },
  {
   "cell_type": "code",
   "execution_count": 20,
   "metadata": {},
   "outputs": [],
   "source": [
    "n_steps_in, n_steps_out = 15, 2"
   ]
  },
  {
   "cell_type": "code",
   "execution_count": 21,
   "metadata": {},
   "outputs": [
    {
     "name": "stdout",
     "output_type": "stream",
     "text": [
      "X shape: (1863, 15, 3)\n",
      "y shape: (1863, 2)\n",
      "X: [[0.         0.43103448 0.44444444]\n",
      " [0.         0.43103448 0.47222222]\n",
      " [0.         0.45258621 0.38888889]\n",
      " [0.         0.44396552 0.36111111]\n",
      " [0.         0.45258621 0.41666667]\n",
      " [0.         0.4612069  0.41666667]\n",
      " [0.         0.45258621 0.33333333]\n",
      " [0.         0.4612069  0.38888889]\n",
      " [0.         0.45258621 0.38888889]\n",
      " [0.         0.47413793 0.44444444]\n",
      " [0.         0.4612069  0.47222222]\n",
      " [0.         0.46982759 0.5       ]\n",
      " [0.         0.47413793 0.55555556]\n",
      " [0.         0.43103448 0.27777778]\n",
      " [0.         0.45258621 0.30555556]]\n",
      "y: [0.35166794 0.47882183]\n"
     ]
    }
   ],
   "source": [
    "X, y = split_sequences(dataset_scaled, n_steps_in, n_steps_out)\n",
    "print('X shape:', X.shape)\n",
    "print('y shape:', y.shape)\n",
    "print('X:', X[0])\n",
    "print('y:', y[0])"
   ]
  },
  {
   "cell_type": "code",
   "execution_count": 22,
   "metadata": {},
   "outputs": [
    {
     "name": "stdout",
     "output_type": "stream",
     "text": [
      "train_X shape: (1490, 15, 3)\n",
      "train_y shape: (1490, 2)\n",
      "test_X shape: (373, 15, 3)\n",
      "test_y shape: (373, 2)\n"
     ]
    }
   ],
   "source": [
    "# splitting dataset into training set and test set\n",
    "from sklearn.model_selection import train_test_split\n",
    "\n",
    "train_X, test_X, train_y, test_y = train_test_split(X, y, train_size=0.8, random_state=0)\n",
    "# split_point = math.ceil(X.shape[0] * 0.8)\n",
    "# train_X, test_X, train_y, test_y = X[:split_point,:], X[split_point:,:], y[:split_point, :], y[split_point:, :]\n",
    "\n",
    "print('train_X shape:', train_X.shape)\n",
    "print('train_y shape:', train_y.shape)\n",
    "print('test_X shape:', test_X.shape)\n",
    "print('test_y shape:', test_y.shape)"
   ]
  },
  {
   "cell_type": "code",
   "execution_count": 23,
   "metadata": {},
   "outputs": [],
   "source": [
    "n_features = 3"
   ]
  },
  {
   "cell_type": "code",
   "execution_count": 24,
   "metadata": {},
   "outputs": [
    {
     "name": "stderr",
     "output_type": "stream",
     "text": [
      "2024-05-04 11:36:18.443742: I tensorflow/core/platform/cpu_feature_guard.cc:182] This TensorFlow binary is optimized to use available CPU instructions in performance-critical operations.\n",
      "To enable the following instructions: SSE4.1 SSE4.2 AVX AVX2 FMA, in other operations, rebuild TensorFlow with the appropriate compiler flags.\n"
     ]
    }
   ],
   "source": [
    "import keras"
   ]
  },
  {
   "cell_type": "code",
   "execution_count": 25,
   "metadata": {},
   "outputs": [],
   "source": [
    "# optimizing learning rate\n",
    "\n",
    "opt = keras.optimizers.Adam(learning_rate=0.0001)"
   ]
  },
  {
   "cell_type": "code",
   "execution_count": 26,
   "metadata": {},
   "outputs": [],
   "source": [
    "# import Activation\n",
    "from keras.layers import Activation"
   ]
  },
  {
   "cell_type": "code",
   "execution_count": 27,
   "metadata": {},
   "outputs": [
    {
     "name": "stderr",
     "output_type": "stream",
     "text": [
      "2024-05-04 11:36:20.145410: I tensorflow/core/common_runtime/process_util.cc:146] Creating new thread pool with default inter op setting: 2. Tune using inter_op_parallelism_threads for best performance.\n"
     ]
    },
    {
     "name": "stdout",
     "output_type": "stream",
     "text": [
      "Model: \"sequential\"\n",
      "_________________________________________________________________\n",
      " Layer (type)                Output Shape              Param #   \n",
      "=================================================================\n",
      " lstm (LSTM)                 (None, 15, 50)            10800     \n",
      "                                                                 \n",
      " lstm_1 (LSTM)               (None, 50)                20200     \n",
      "                                                                 \n",
      " dense (Dense)               (None, 2)                 102       \n",
      "                                                                 \n",
      " activation (Activation)     (None, 2)                 0         \n",
      "                                                                 \n",
      "=================================================================\n",
      "Total params: 31,102\n",
      "Trainable params: 31,102\n",
      "Non-trainable params: 0\n",
      "_________________________________________________________________\n"
     ]
    }
   ],
   "source": [
    "# define model\n",
    "model = keras.models.Sequential()\n",
    "model.add(keras.layers.LSTM(50, activation='relu', return_sequences=True, input_shape=(n_steps_in, n_features)))\n",
    "model.add(keras.layers.LSTM(50, activation='relu'))\n",
    "model.add(keras.layers.Dense(n_steps_out))\n",
    "model.add(Activation('linear'))\n",
    "model.compile(optimizer=opt, loss='mse', metrics=['accuracy'])\n",
    "\n",
    "model.summary()"
   ]
  },
  {
   "cell_type": "code",
   "execution_count": 28,
   "metadata": {},
   "outputs": [
    {
     "name": "stdout",
     "output_type": "stream",
     "text": [
      "Epoch 1/100\n",
      "15/15 [==============================] - 4s 131ms/step - loss: 0.3615 - accuracy: 0.4477 - val_loss: 0.3449 - val_accuracy: 0.5335\n",
      "Epoch 2/100\n",
      "15/15 [==============================] - 2s 100ms/step - loss: 0.3281 - accuracy: 0.4638 - val_loss: 0.3115 - val_accuracy: 0.5255\n",
      "Epoch 3/100\n",
      "15/15 [==============================] - 1s 97ms/step - loss: 0.2939 - accuracy: 0.4859 - val_loss: 0.2764 - val_accuracy: 0.5147\n",
      "Epoch 4/100\n",
      "15/15 [==============================] - 1s 98ms/step - loss: 0.2572 - accuracy: 0.4846 - val_loss: 0.2378 - val_accuracy: 0.5147\n",
      "Epoch 5/100\n",
      "15/15 [==============================] - 1s 93ms/step - loss: 0.2160 - accuracy: 0.4872 - val_loss: 0.1939 - val_accuracy: 0.5201\n",
      "Epoch 6/100\n",
      "15/15 [==============================] - 1s 102ms/step - loss: 0.1684 - accuracy: 0.5034 - val_loss: 0.1417 - val_accuracy: 0.5121\n",
      "Epoch 7/100\n",
      "15/15 [==============================] - 2s 109ms/step - loss: 0.1115 - accuracy: 0.5201 - val_loss: 0.0809 - val_accuracy: 0.5201\n",
      "Epoch 8/100\n",
      "15/15 [==============================] - 2s 104ms/step - loss: 0.0543 - accuracy: 0.5826 - val_loss: 0.0363 - val_accuracy: 0.5282\n",
      "Epoch 9/100\n",
      "15/15 [==============================] - 1s 101ms/step - loss: 0.0303 - accuracy: 0.5799 - val_loss: 0.0308 - val_accuracy: 0.5389\n",
      "Epoch 10/100\n",
      "15/15 [==============================] - 2s 118ms/step - loss: 0.0254 - accuracy: 0.4671 - val_loss: 0.0256 - val_accuracy: 0.4933\n",
      "Epoch 11/100\n",
      "15/15 [==============================] - 2s 103ms/step - loss: 0.0221 - accuracy: 0.4738 - val_loss: 0.0232 - val_accuracy: 0.5255\n",
      "Epoch 12/100\n",
      "15/15 [==============================] - 2s 114ms/step - loss: 0.0204 - accuracy: 0.5658 - val_loss: 0.0219 - val_accuracy: 0.4960\n",
      "Epoch 13/100\n",
      "15/15 [==============================] - 2s 104ms/step - loss: 0.0195 - accuracy: 0.5087 - val_loss: 0.0212 - val_accuracy: 0.4987\n",
      "Epoch 14/100\n",
      "15/15 [==============================] - 2s 111ms/step - loss: 0.0190 - accuracy: 0.5013 - val_loss: 0.0207 - val_accuracy: 0.4879\n",
      "Epoch 15/100\n",
      "15/15 [==============================] - 1s 101ms/step - loss: 0.0185 - accuracy: 0.4973 - val_loss: 0.0202 - val_accuracy: 0.4853\n",
      "Epoch 16/100\n",
      "15/15 [==============================] - 1s 100ms/step - loss: 0.0181 - accuracy: 0.4993 - val_loss: 0.0198 - val_accuracy: 0.5040\n",
      "Epoch 17/100\n",
      "15/15 [==============================] - 2s 117ms/step - loss: 0.0178 - accuracy: 0.5020 - val_loss: 0.0194 - val_accuracy: 0.5013\n",
      "Epoch 18/100\n",
      "15/15 [==============================] - 2s 124ms/step - loss: 0.0174 - accuracy: 0.5067 - val_loss: 0.0189 - val_accuracy: 0.4960\n",
      "Epoch 19/100\n",
      "15/15 [==============================] - 1s 93ms/step - loss: 0.0170 - accuracy: 0.5067 - val_loss: 0.0185 - val_accuracy: 0.4987\n",
      "Epoch 20/100\n",
      "15/15 [==============================] - 2s 114ms/step - loss: 0.0167 - accuracy: 0.5047 - val_loss: 0.0182 - val_accuracy: 0.5013\n",
      "Epoch 21/100\n",
      "15/15 [==============================] - 2s 126ms/step - loss: 0.0164 - accuracy: 0.5047 - val_loss: 0.0178 - val_accuracy: 0.5067\n",
      "Epoch 22/100\n",
      "15/15 [==============================] - 2s 137ms/step - loss: 0.0161 - accuracy: 0.5034 - val_loss: 0.0174 - val_accuracy: 0.5013\n",
      "Epoch 23/100\n",
      "15/15 [==============================] - 2s 138ms/step - loss: 0.0158 - accuracy: 0.5074 - val_loss: 0.0171 - val_accuracy: 0.5147\n",
      "Epoch 24/100\n",
      "15/15 [==============================] - 1s 81ms/step - loss: 0.0155 - accuracy: 0.5020 - val_loss: 0.0167 - val_accuracy: 0.4987\n",
      "Epoch 25/100\n",
      "15/15 [==============================] - 1s 99ms/step - loss: 0.0152 - accuracy: 0.4906 - val_loss: 0.0164 - val_accuracy: 0.4933\n",
      "Epoch 26/100\n",
      "15/15 [==============================] - 2s 101ms/step - loss: 0.0149 - accuracy: 0.4671 - val_loss: 0.0160 - val_accuracy: 0.5147\n",
      "Epoch 27/100\n",
      "15/15 [==============================] - 1s 94ms/step - loss: 0.0146 - accuracy: 0.4577 - val_loss: 0.0157 - val_accuracy: 0.5147\n",
      "Epoch 28/100\n",
      "15/15 [==============================] - 1s 80ms/step - loss: 0.0143 - accuracy: 0.4758 - val_loss: 0.0155 - val_accuracy: 0.5201\n",
      "Epoch 29/100\n",
      "15/15 [==============================] - 1s 94ms/step - loss: 0.0141 - accuracy: 0.4832 - val_loss: 0.0152 - val_accuracy: 0.5121\n",
      "Epoch 30/100\n",
      "15/15 [==============================] - 1s 92ms/step - loss: 0.0138 - accuracy: 0.4812 - val_loss: 0.0150 - val_accuracy: 0.5013\n",
      "Epoch 31/100\n",
      "15/15 [==============================] - 2s 125ms/step - loss: 0.0136 - accuracy: 0.4779 - val_loss: 0.0147 - val_accuracy: 0.4879\n",
      "Epoch 32/100\n",
      "15/15 [==============================] - 1s 81ms/step - loss: 0.0134 - accuracy: 0.4832 - val_loss: 0.0145 - val_accuracy: 0.4879\n",
      "Epoch 33/100\n",
      "15/15 [==============================] - 1s 97ms/step - loss: 0.0133 - accuracy: 0.4826 - val_loss: 0.0143 - val_accuracy: 0.4960\n",
      "Epoch 34/100\n",
      "15/15 [==============================] - 2s 109ms/step - loss: 0.0131 - accuracy: 0.4799 - val_loss: 0.0141 - val_accuracy: 0.4960\n",
      "Epoch 35/100\n",
      "15/15 [==============================] - 2s 104ms/step - loss: 0.0129 - accuracy: 0.4819 - val_loss: 0.0140 - val_accuracy: 0.4987\n",
      "Epoch 36/100\n",
      "15/15 [==============================] - 2s 103ms/step - loss: 0.0128 - accuracy: 0.4812 - val_loss: 0.0138 - val_accuracy: 0.4933\n",
      "Epoch 37/100\n",
      "15/15 [==============================] - 2s 114ms/step - loss: 0.0126 - accuracy: 0.4872 - val_loss: 0.0136 - val_accuracy: 0.4960\n",
      "Epoch 38/100\n",
      "15/15 [==============================] - 2s 102ms/step - loss: 0.0125 - accuracy: 0.4893 - val_loss: 0.0135 - val_accuracy: 0.4960\n",
      "Epoch 39/100\n",
      "15/15 [==============================] - 2s 120ms/step - loss: 0.0124 - accuracy: 0.4893 - val_loss: 0.0134 - val_accuracy: 0.4987\n",
      "Epoch 40/100\n",
      "15/15 [==============================] - 2s 110ms/step - loss: 0.0122 - accuracy: 0.4940 - val_loss: 0.0133 - val_accuracy: 0.4960\n",
      "Epoch 41/100\n",
      "15/15 [==============================] - 2s 113ms/step - loss: 0.0121 - accuracy: 0.4940 - val_loss: 0.0131 - val_accuracy: 0.4906\n",
      "Epoch 42/100\n",
      "15/15 [==============================] - 2s 105ms/step - loss: 0.0120 - accuracy: 0.5000 - val_loss: 0.0130 - val_accuracy: 0.4906\n",
      "Epoch 43/100\n",
      "15/15 [==============================] - 1s 99ms/step - loss: 0.0119 - accuracy: 0.5020 - val_loss: 0.0129 - val_accuracy: 0.4826\n",
      "Epoch 44/100\n",
      "15/15 [==============================] - 2s 119ms/step - loss: 0.0118 - accuracy: 0.5047 - val_loss: 0.0128 - val_accuracy: 0.4879\n",
      "Epoch 45/100\n",
      "15/15 [==============================] - 2s 104ms/step - loss: 0.0117 - accuracy: 0.5034 - val_loss: 0.0127 - val_accuracy: 0.4906\n",
      "Epoch 46/100\n",
      "15/15 [==============================] - 2s 112ms/step - loss: 0.0116 - accuracy: 0.5040 - val_loss: 0.0126 - val_accuracy: 0.4906\n",
      "Epoch 47/100\n",
      "15/15 [==============================] - 2s 118ms/step - loss: 0.0114 - accuracy: 0.5040 - val_loss: 0.0125 - val_accuracy: 0.4906\n",
      "Epoch 48/100\n",
      "15/15 [==============================] - 2s 117ms/step - loss: 0.0113 - accuracy: 0.5054 - val_loss: 0.0124 - val_accuracy: 0.4933\n",
      "Epoch 49/100\n",
      "15/15 [==============================] - 2s 98ms/step - loss: 0.0112 - accuracy: 0.5054 - val_loss: 0.0123 - val_accuracy: 0.4879\n",
      "Epoch 50/100\n",
      "15/15 [==============================] - 1s 94ms/step - loss: 0.0111 - accuracy: 0.5107 - val_loss: 0.0122 - val_accuracy: 0.4853\n",
      "Epoch 51/100\n",
      "15/15 [==============================] - 1s 70ms/step - loss: 0.0110 - accuracy: 0.5094 - val_loss: 0.0121 - val_accuracy: 0.4879\n",
      "Epoch 52/100\n",
      "15/15 [==============================] - 1s 88ms/step - loss: 0.0109 - accuracy: 0.5040 - val_loss: 0.0120 - val_accuracy: 0.4906\n",
      "Epoch 53/100\n",
      "15/15 [==============================] - 1s 101ms/step - loss: 0.0108 - accuracy: 0.5101 - val_loss: 0.0119 - val_accuracy: 0.4987\n",
      "Epoch 54/100\n",
      "15/15 [==============================] - 2s 106ms/step - loss: 0.0107 - accuracy: 0.5081 - val_loss: 0.0118 - val_accuracy: 0.4906\n",
      "Epoch 55/100\n",
      "15/15 [==============================] - 2s 108ms/step - loss: 0.0106 - accuracy: 0.5040 - val_loss: 0.0117 - val_accuracy: 0.4879\n",
      "Epoch 56/100\n",
      "15/15 [==============================] - 2s 113ms/step - loss: 0.0105 - accuracy: 0.5027 - val_loss: 0.0116 - val_accuracy: 0.4853\n",
      "Epoch 57/100\n",
      "15/15 [==============================] - 2s 110ms/step - loss: 0.0104 - accuracy: 0.5054 - val_loss: 0.0115 - val_accuracy: 0.4879\n",
      "Epoch 58/100\n",
      "15/15 [==============================] - 2s 107ms/step - loss: 0.0103 - accuracy: 0.5060 - val_loss: 0.0114 - val_accuracy: 0.4879\n",
      "Epoch 59/100\n",
      "15/15 [==============================] - 1s 95ms/step - loss: 0.0102 - accuracy: 0.5087 - val_loss: 0.0113 - val_accuracy: 0.4906\n",
      "Epoch 60/100\n",
      "15/15 [==============================] - 1s 64ms/step - loss: 0.0102 - accuracy: 0.5087 - val_loss: 0.0113 - val_accuracy: 0.4960\n",
      "Epoch 61/100\n",
      "15/15 [==============================] - 1s 57ms/step - loss: 0.0101 - accuracy: 0.5081 - val_loss: 0.0112 - val_accuracy: 0.4987\n",
      "Epoch 62/100\n",
      "15/15 [==============================] - 1s 89ms/step - loss: 0.0100 - accuracy: 0.5074 - val_loss: 0.0112 - val_accuracy: 0.4987\n",
      "Epoch 63/100\n",
      "15/15 [==============================] - 2s 104ms/step - loss: 0.0100 - accuracy: 0.5094 - val_loss: 0.0111 - val_accuracy: 0.4960\n",
      "Epoch 64/100\n",
      "15/15 [==============================] - 1s 77ms/step - loss: 0.0099 - accuracy: 0.5114 - val_loss: 0.0111 - val_accuracy: 0.4987\n",
      "Epoch 65/100\n",
      "15/15 [==============================] - 1s 68ms/step - loss: 0.0099 - accuracy: 0.5121 - val_loss: 0.0110 - val_accuracy: 0.5013\n",
      "Epoch 66/100\n",
      "15/15 [==============================] - 2s 138ms/step - loss: 0.0098 - accuracy: 0.5107 - val_loss: 0.0110 - val_accuracy: 0.4987\n",
      "Epoch 67/100\n",
      "15/15 [==============================] - 2s 122ms/step - loss: 0.0098 - accuracy: 0.5101 - val_loss: 0.0110 - val_accuracy: 0.4987\n",
      "Epoch 68/100\n",
      "15/15 [==============================] - 2s 104ms/step - loss: 0.0097 - accuracy: 0.5134 - val_loss: 0.0109 - val_accuracy: 0.5040\n",
      "Epoch 69/100\n",
      "15/15 [==============================] - 2s 123ms/step - loss: 0.0097 - accuracy: 0.5141 - val_loss: 0.0109 - val_accuracy: 0.5040\n",
      "Epoch 70/100\n",
      "15/15 [==============================] - 2s 110ms/step - loss: 0.0097 - accuracy: 0.5134 - val_loss: 0.0109 - val_accuracy: 0.5040\n",
      "Epoch 71/100\n",
      "15/15 [==============================] - 2s 111ms/step - loss: 0.0096 - accuracy: 0.5101 - val_loss: 0.0108 - val_accuracy: 0.5040\n",
      "Epoch 72/100\n",
      "15/15 [==============================] - 2s 103ms/step - loss: 0.0096 - accuracy: 0.5094 - val_loss: 0.0108 - val_accuracy: 0.5040\n",
      "Epoch 73/100\n",
      "15/15 [==============================] - 2s 114ms/step - loss: 0.0096 - accuracy: 0.5087 - val_loss: 0.0108 - val_accuracy: 0.5040\n",
      "Epoch 74/100\n",
      "15/15 [==============================] - 2s 108ms/step - loss: 0.0095 - accuracy: 0.5081 - val_loss: 0.0108 - val_accuracy: 0.5067\n",
      "Epoch 75/100\n",
      "15/15 [==============================] - 2s 114ms/step - loss: 0.0095 - accuracy: 0.5087 - val_loss: 0.0107 - val_accuracy: 0.5067\n",
      "Epoch 76/100\n",
      "15/15 [==============================] - 2s 137ms/step - loss: 0.0095 - accuracy: 0.5087 - val_loss: 0.0107 - val_accuracy: 0.5067\n",
      "Epoch 77/100\n",
      "15/15 [==============================] - 2s 114ms/step - loss: 0.0095 - accuracy: 0.5081 - val_loss: 0.0107 - val_accuracy: 0.5067\n",
      "Epoch 78/100\n",
      "15/15 [==============================] - 1s 89ms/step - loss: 0.0094 - accuracy: 0.5101 - val_loss: 0.0107 - val_accuracy: 0.5121\n",
      "Epoch 79/100\n",
      "15/15 [==============================] - 2s 106ms/step - loss: 0.0094 - accuracy: 0.5114 - val_loss: 0.0107 - val_accuracy: 0.5201\n",
      "Epoch 80/100\n",
      "15/15 [==============================] - 2s 112ms/step - loss: 0.0094 - accuracy: 0.5121 - val_loss: 0.0107 - val_accuracy: 0.5147\n",
      "Epoch 81/100\n",
      "15/15 [==============================] - 2s 111ms/step - loss: 0.0094 - accuracy: 0.5128 - val_loss: 0.0106 - val_accuracy: 0.5147\n",
      "Epoch 82/100\n",
      "15/15 [==============================] - 2s 120ms/step - loss: 0.0093 - accuracy: 0.5141 - val_loss: 0.0106 - val_accuracy: 0.5147\n",
      "Epoch 83/100\n",
      "15/15 [==============================] - 1s 90ms/step - loss: 0.0093 - accuracy: 0.5154 - val_loss: 0.0106 - val_accuracy: 0.5121\n",
      "Epoch 84/100\n",
      "15/15 [==============================] - 2s 112ms/step - loss: 0.0093 - accuracy: 0.5141 - val_loss: 0.0106 - val_accuracy: 0.5147\n",
      "Epoch 85/100\n",
      "15/15 [==============================] - 2s 107ms/step - loss: 0.0093 - accuracy: 0.5161 - val_loss: 0.0106 - val_accuracy: 0.5147\n",
      "Epoch 86/100\n",
      "15/15 [==============================] - 1s 94ms/step - loss: 0.0093 - accuracy: 0.5161 - val_loss: 0.0106 - val_accuracy: 0.5121\n",
      "Epoch 87/100\n",
      "15/15 [==============================] - 2s 113ms/step - loss: 0.0092 - accuracy: 0.5154 - val_loss: 0.0106 - val_accuracy: 0.5147\n",
      "Epoch 88/100\n",
      "15/15 [==============================] - 2s 123ms/step - loss: 0.0092 - accuracy: 0.5154 - val_loss: 0.0105 - val_accuracy: 0.5174\n",
      "Epoch 89/100\n",
      "15/15 [==============================] - 2s 112ms/step - loss: 0.0092 - accuracy: 0.5148 - val_loss: 0.0105 - val_accuracy: 0.5121\n",
      "Epoch 90/100\n",
      "15/15 [==============================] - 2s 106ms/step - loss: 0.0092 - accuracy: 0.5148 - val_loss: 0.0105 - val_accuracy: 0.5201\n",
      "Epoch 91/100\n",
      "15/15 [==============================] - 2s 112ms/step - loss: 0.0092 - accuracy: 0.5168 - val_loss: 0.0105 - val_accuracy: 0.5147\n",
      "Epoch 92/100\n",
      "15/15 [==============================] - 2s 109ms/step - loss: 0.0091 - accuracy: 0.5174 - val_loss: 0.0104 - val_accuracy: 0.5147\n",
      "Epoch 93/100\n",
      "15/15 [==============================] - 2s 111ms/step - loss: 0.0091 - accuracy: 0.5208 - val_loss: 0.0104 - val_accuracy: 0.5121\n",
      "Epoch 94/100\n",
      "15/15 [==============================] - 2s 109ms/step - loss: 0.0091 - accuracy: 0.5228 - val_loss: 0.0104 - val_accuracy: 0.5094\n",
      "Epoch 95/100\n",
      "15/15 [==============================] - 2s 123ms/step - loss: 0.0091 - accuracy: 0.5215 - val_loss: 0.0104 - val_accuracy: 0.5121\n",
      "Epoch 96/100\n",
      "15/15 [==============================] - 2s 124ms/step - loss: 0.0091 - accuracy: 0.5215 - val_loss: 0.0104 - val_accuracy: 0.5094\n",
      "Epoch 97/100\n",
      "15/15 [==============================] - 1s 93ms/step - loss: 0.0090 - accuracy: 0.5221 - val_loss: 0.0104 - val_accuracy: 0.5094\n",
      "Epoch 98/100\n",
      "15/15 [==============================] - 2s 142ms/step - loss: 0.0090 - accuracy: 0.5228 - val_loss: 0.0103 - val_accuracy: 0.5094\n",
      "Epoch 99/100\n",
      "15/15 [==============================] - 2s 116ms/step - loss: 0.0090 - accuracy: 0.5235 - val_loss: 0.0103 - val_accuracy: 0.5094\n",
      "Epoch 100/100\n",
      "15/15 [==============================] - 2s 127ms/step - loss: 0.0090 - accuracy: 0.5215 - val_loss: 0.0103 - val_accuracy: 0.5094\n"
     ]
    }
   ],
   "source": [
    "# fit network\n",
    "history = model.fit(train_X , train_y , epochs=100, steps_per_epoch=15 , verbose=1 ,validation_data=(test_X, test_y) ,shuffle=False)"
   ]
  },
  {
   "cell_type": "code",
   "execution_count": 63,
   "metadata": {},
   "outputs": [
    {
     "data": {
      "text/plain": [
       "(15, 6)"
      ]
     },
     "execution_count": 63,
     "metadata": {},
     "output_type": "execute_result"
    }
   ],
   "source": [
    "df_test = df.copy().iloc[-15:]\n",
    "\n",
    "# prepare test dataset\n",
    "x1_test = df_test['choke'].values\n",
    "x2_test = df_test['psig'].values\n",
    "x3_test = df_test['apsig'].values\n",
    "y1_test = df_test['oil'].values\n",
    "y2_test = df_test['gas'].values\n",
    "y3_test = df_test['water'].values\n",
    "df_test.shape"
   ]
  },
  {
   "cell_type": "code",
   "execution_count": 64,
   "metadata": {},
   "outputs": [],
   "source": [
    "# reshape\n",
    "x1_test = x1_test.reshape(len(x1_test), 1)\n",
    "x2_test = x2_test.reshape(len(x2_test), 1)\n",
    "x3_test = x3_test.reshape(len(x3_test), 1)\n",
    "y1_test = y1_test.reshape(len(y1_test), 1)\n",
    "y2_test = y2_test.reshape(len(y2_test), 1)\n",
    "y3_test = y3_test.reshape(len(y3_test), 1)"
   ]
  },
  {
   "cell_type": "code",
   "execution_count": 65,
   "metadata": {},
   "outputs": [],
   "source": [
    "# convert to [rows, columns] structure\n",
    "x1_test_scaled = scaler.fit_transform(x1_test)\n",
    "x2_test_scaled = scaler.fit_transform(x2_test)\n",
    "x3_test_scaled = scaler.fit_transform(x3_test)\n",
    "# y1_test_scaled = scaler.fit_transform(y1_test) # no needed\n",
    "# y2_test_scaled = scaler.fit_transform(y2_test) # no needed\n",
    "# y3_test_scaled = scaler.fit_transform(y3_test) # no needed"
   ]
  },
  {
   "cell_type": "code",
   "execution_count": 66,
   "metadata": {},
   "outputs": [
    {
     "name": "stdout",
     "output_type": "stream",
     "text": [
      "dataset_test_stacked.shape: (15, 3)\n"
     ]
    }
   ],
   "source": [
    "# horizontally stack columns\n",
    "dataset_test_stacked = np.hstack((x1_test_scaled, x2_test_scaled, x3_test_scaled))\n",
    "print(\"dataset_test_stacked.shape:\", dataset_test_stacked.shape)"
   ]
  },
  {
   "cell_type": "code",
   "execution_count": 67,
   "metadata": {},
   "outputs": [
    {
     "name": "stdout",
     "output_type": "stream",
     "text": [
      "dataset_test_X: [[0.         0.33333333 0.4       ]\n",
      " [0.         0.33333333 0.8       ]\n",
      " [0.         0.         0.8       ]\n",
      " [0.         0.66666667 1.        ]\n",
      " [0.         0.33333333 0.2       ]\n",
      " [0.         0.33333333 0.        ]\n",
      " [0.         0.66666667 0.6       ]\n",
      " [0.         1.         0.2       ]\n",
      " [0.         0.83333333 0.8       ]\n",
      " [0.         0.33333333 0.4       ]\n",
      " [0.         0.66666667 0.8       ]\n",
      " [0.         0.33333333 0.2       ]\n",
      " [0.         0.66666667 0.8       ]\n",
      " [0.         1.         0.4       ]\n",
      " [0.         0.83333333 0.8       ]]\n"
     ]
    }
   ],
   "source": [
    "# prediction\n",
    "dataset_test_X = dataset_test_stacked.copy()\n",
    "print(\"dataset_test_X:\", dataset_test_X)"
   ]
  },
  {
   "cell_type": "code",
   "execution_count": 68,
   "metadata": {},
   "outputs": [],
   "source": [
    "test_X_new = dataset_test_X.reshape(1, dataset_test_X.shape[0], dataset_test_X.shape[1])"
   ]
  },
  {
   "cell_type": "code",
   "execution_count": 76,
   "metadata": {},
   "outputs": [
    {
     "name": "stdout",
     "output_type": "stream",
     "text": [
      "1/1 [==============================] - 0s 35ms/step\n",
      "y_pred_1 : (1, 2)\n",
      "y_pred_1_inv : (2, 1)\n"
     ]
    }
   ],
   "source": [
    "# prediction\n",
    "y_pred_1 = model.predict(test_X_new)\n",
    "y_pred_1_inv = scaler.inverse_transform(y_pred_1)\n",
    "y_pred_1_inv = y_pred_1_inv.reshape(n_steps_out, 1)\n",
    "# y_pred_1_inv = y_pred_1_inv[:,0]\n",
    "\n",
    "print(\"y_pred_1 :\",y_pred_1.shape)\n",
    "print(\"y_pred_1_inv :\",y_pred_1_inv.shape)"
   ]
  },
  {
   "cell_type": "code",
   "execution_count": 74,
   "metadata": {},
   "outputs": [
    {
     "name": "stdout",
     "output_type": "stream",
     "text": [
      "y_pred_1: [[0.657373   0.66401017]]\n",
      "y_pred_1_inv: [[327.28687]\n",
      " [327.32007]]\n"
     ]
    }
   ],
   "source": [
    "print(\"y_pred_1:\", y_pred_1)\n",
    "print(\"y_pred_1_inv:\", y_pred_1_inv)"
   ]
  }
 ],
 "metadata": {
  "kernelspec": {
   "display_name": "kerasenv",
   "language": "python",
   "name": "python3"
  },
  "language_info": {
   "codemirror_mode": {
    "name": "ipython",
    "version": 3
   },
   "file_extension": ".py",
   "mimetype": "text/x-python",
   "name": "python",
   "nbconvert_exporter": "python",
   "pygments_lexer": "ipython3",
   "version": "3.11.5"
  }
 },
 "nbformat": 4,
 "nbformat_minor": 2
}
