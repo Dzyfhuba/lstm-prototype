{
 "cells": [
  {
   "cell_type": "code",
   "execution_count": 1,
   "metadata": {},
   "outputs": [],
   "source": [
    "import numpy as np\n",
    "import pandas as pd\n",
    "import math\n",
    "import torch\n",
    "from torch import nn\n",
    "import matplotlib.pyplot as plt\n",
    "from sklearn.preprocessing import MinMaxScaler\n",
    "from sklearn.model_selection import train_test_split"
   ]
  },
  {
   "cell_type": "code",
   "execution_count": 2,
   "metadata": {},
   "outputs": [],
   "source": [
    "device = torch.device(\"cpu\")"
   ]
  },
  {
   "cell_type": "code",
   "execution_count": 3,
   "metadata": {},
   "outputs": [],
   "source": [
    "columns = ['Date', 'Time', 'Choke', 'Psig', 'APsig', 'BOPD (Oil)', 'MMSCFD (Gas)', 'BWPD (Air)']"
   ]
  },
  {
   "cell_type": "code",
   "execution_count": 4,
   "metadata": {},
   "outputs": [],
   "source": [
    "df_data = pd.read_excel('data.xlsx')\n",
    "df_data = df_data[columns]"
   ]
  },
  {
   "cell_type": "code",
   "execution_count": 5,
   "metadata": {},
   "outputs": [],
   "source": [
    "# fill error data\n",
    "df_data = df_data.ffill()"
   ]
  },
  {
   "cell_type": "code",
   "execution_count": 6,
   "metadata": {},
   "outputs": [
    {
     "name": "stderr",
     "output_type": "stream",
     "text": [
      "/tmp/ipykernel_41987/3734410702.py:1: UserWarning: Could not infer format, so each element will be parsed individually, falling back to `dateutil`. To ensure parsing is consistent and as-expected, please specify a format.\n",
      "  datetime = pd.to_datetime(df_data['Date'].map(str) + ' ' + df_data['Time'].map(str))\n"
     ]
    }
   ],
   "source": [
    "datetime = pd.to_datetime(df_data['Date'].map(str) + ' ' + df_data['Time'].map(str))"
   ]
  },
  {
   "cell_type": "code",
   "execution_count": 7,
   "metadata": {},
   "outputs": [],
   "source": [
    "df_data['Datetime'] = datetime\n",
    "df_data = df_data.set_index('Datetime')"
   ]
  },
  {
   "cell_type": "code",
   "execution_count": 8,
   "metadata": {},
   "outputs": [],
   "source": [
    "df_data = df_data.drop('Date', axis=1)\n",
    "df_data = df_data.drop('Time', axis=1)"
   ]
  },
  {
   "cell_type": "code",
   "execution_count": 9,
   "metadata": {},
   "outputs": [
    {
     "data": {
      "text/html": [
       "<div>\n",
       "<style scoped>\n",
       "    .dataframe tbody tr th:only-of-type {\n",
       "        vertical-align: middle;\n",
       "    }\n",
       "\n",
       "    .dataframe tbody tr th {\n",
       "        vertical-align: top;\n",
       "    }\n",
       "\n",
       "    .dataframe thead th {\n",
       "        text-align: right;\n",
       "    }\n",
       "</style>\n",
       "<table border=\"1\" class=\"dataframe\">\n",
       "  <thead>\n",
       "    <tr style=\"text-align: right;\">\n",
       "      <th></th>\n",
       "      <th>Choke</th>\n",
       "      <th>Psig</th>\n",
       "      <th>APsig</th>\n",
       "      <th>BOPD (Oil)</th>\n",
       "      <th>MMSCFD (Gas)</th>\n",
       "      <th>BWPD (Air)</th>\n",
       "    </tr>\n",
       "    <tr>\n",
       "      <th>Datetime</th>\n",
       "      <th></th>\n",
       "      <th></th>\n",
       "      <th></th>\n",
       "      <th></th>\n",
       "      <th></th>\n",
       "      <th></th>\n",
       "    </tr>\n",
       "  </thead>\n",
       "  <tbody>\n",
       "    <tr>\n",
       "      <th>2021-05-15 21:00:00</th>\n",
       "      <td>38</td>\n",
       "      <td>935</td>\n",
       "      <td>320</td>\n",
       "      <td>698.900</td>\n",
       "      <td>4.980</td>\n",
       "      <td>23.600</td>\n",
       "    </tr>\n",
       "    <tr>\n",
       "      <th>2021-05-15 21:15:00</th>\n",
       "      <td>38</td>\n",
       "      <td>935</td>\n",
       "      <td>321</td>\n",
       "      <td>822.500</td>\n",
       "      <td>4.988</td>\n",
       "      <td>32.600</td>\n",
       "    </tr>\n",
       "    <tr>\n",
       "      <th>2021-05-15 21:30:00</th>\n",
       "      <td>38</td>\n",
       "      <td>940</td>\n",
       "      <td>318</td>\n",
       "      <td>661.400</td>\n",
       "      <td>5.070</td>\n",
       "      <td>26.200</td>\n",
       "    </tr>\n",
       "    <tr>\n",
       "      <th>2021-05-15 21:45:00</th>\n",
       "      <td>38</td>\n",
       "      <td>938</td>\n",
       "      <td>317</td>\n",
       "      <td>737.700</td>\n",
       "      <td>5.061</td>\n",
       "      <td>29.200</td>\n",
       "    </tr>\n",
       "    <tr>\n",
       "      <th>2021-05-15 22:00:00</th>\n",
       "      <td>38</td>\n",
       "      <td>940</td>\n",
       "      <td>319</td>\n",
       "      <td>661.400</td>\n",
       "      <td>5.078</td>\n",
       "      <td>26.200</td>\n",
       "    </tr>\n",
       "    <tr>\n",
       "      <th>...</th>\n",
       "      <td>...</td>\n",
       "      <td>...</td>\n",
       "      <td>...</td>\n",
       "      <td>...</td>\n",
       "      <td>...</td>\n",
       "      <td>...</td>\n",
       "    </tr>\n",
       "    <tr>\n",
       "      <th>2021-01-06 11:00:00</th>\n",
       "      <td>42</td>\n",
       "      <td>988</td>\n",
       "      <td>327</td>\n",
       "      <td>817.992</td>\n",
       "      <td>7.534</td>\n",
       "      <td>17.856</td>\n",
       "    </tr>\n",
       "    <tr>\n",
       "      <th>2021-01-06 11:15:00</th>\n",
       "      <td>42</td>\n",
       "      <td>990</td>\n",
       "      <td>328</td>\n",
       "      <td>809.208</td>\n",
       "      <td>7.545</td>\n",
       "      <td>17.664</td>\n",
       "    </tr>\n",
       "    <tr>\n",
       "      <th>2021-01-06 11:30:00</th>\n",
       "      <td>42</td>\n",
       "      <td>986</td>\n",
       "      <td>326</td>\n",
       "      <td>810.048</td>\n",
       "      <td>7.522</td>\n",
       "      <td>17.664</td>\n",
       "    </tr>\n",
       "    <tr>\n",
       "      <th>2021-01-06 11:45:00</th>\n",
       "      <td>42</td>\n",
       "      <td>985</td>\n",
       "      <td>325</td>\n",
       "      <td>827.664</td>\n",
       "      <td>7.510</td>\n",
       "      <td>18.048</td>\n",
       "    </tr>\n",
       "    <tr>\n",
       "      <th>2021-01-06 12:00:00</th>\n",
       "      <td>42</td>\n",
       "      <td>988</td>\n",
       "      <td>328</td>\n",
       "      <td>817.992</td>\n",
       "      <td>7.545</td>\n",
       "      <td>17.856</td>\n",
       "    </tr>\n",
       "  </tbody>\n",
       "</table>\n",
       "<p>106 rows × 6 columns</p>\n",
       "</div>"
      ],
      "text/plain": [
       "                     Choke  Psig  APsig  BOPD (Oil)  MMSCFD (Gas)  BWPD (Air)\n",
       "Datetime                                                                     \n",
       "2021-05-15 21:00:00     38   935    320     698.900         4.980      23.600\n",
       "2021-05-15 21:15:00     38   935    321     822.500         4.988      32.600\n",
       "2021-05-15 21:30:00     38   940    318     661.400         5.070      26.200\n",
       "2021-05-15 21:45:00     38   938    317     737.700         5.061      29.200\n",
       "2021-05-15 22:00:00     38   940    319     661.400         5.078      26.200\n",
       "...                    ...   ...    ...         ...           ...         ...\n",
       "2021-01-06 11:00:00     42   988    327     817.992         7.534      17.856\n",
       "2021-01-06 11:15:00     42   990    328     809.208         7.545      17.664\n",
       "2021-01-06 11:30:00     42   986    326     810.048         7.522      17.664\n",
       "2021-01-06 11:45:00     42   985    325     827.664         7.510      18.048\n",
       "2021-01-06 12:00:00     42   988    328     817.992         7.545      17.856\n",
       "\n",
       "[106 rows x 6 columns]"
      ]
     },
     "execution_count": 9,
     "metadata": {},
     "output_type": "execute_result"
    }
   ],
   "source": [
    "df_data"
   ]
  },
  {
   "cell_type": "code",
   "execution_count": 10,
   "metadata": {},
   "outputs": [
    {
     "name": "stdout",
     "output_type": "stream",
     "text": [
      "                     Choke  Psig  APsig  BOPD (Oil)  MMSCFD (Gas)  BWPD (Air)  \\\n",
      "Datetime                                                                        \n",
      "2021-05-15 21:15:00     38   935    321       822.5         4.988        32.6   \n",
      "2021-05-15 21:30:00     38   940    318       661.4         5.070        26.2   \n",
      "2021-05-15 21:45:00     38   938    317       737.7         5.061        29.2   \n",
      "2021-05-15 22:00:00     38   940    319       661.4         5.078        26.2   \n",
      "2021-05-15 22:15:00     38   942    319       712.2         5.078        28.2   \n",
      "\n",
      "                     OilPrev  difference  square_error  \n",
      "Datetime                                                \n",
      "2021-05-15 21:15:00    698.9       123.6      15276.96  \n",
      "2021-05-15 21:30:00    822.5      -161.1      25953.21  \n",
      "2021-05-15 21:45:00    661.4        76.3       5821.69  \n",
      "2021-05-15 22:00:00    737.7       -76.3       5821.69  \n",
      "2021-05-15 22:15:00    661.4        50.8       2580.64  \n",
      "Square Error of the Naive Approach is 1042.448\n"
     ]
    }
   ],
   "source": [
    "# Oil\n",
    "df_data_naive = df_data.copy(deep=True)\n",
    "df_data_naive['OilPrev'] = df_data_naive['BOPD (Oil)'].shift(1)\n",
    "df_data_naive.drop(df_data_naive.index[0], inplace=True)\n",
    "df_data_naive['difference'] = df_data_naive['BOPD (Oil)'] - df_data_naive['OilPrev']\n",
    "df_data_naive['square_error'] = df_data_naive['difference'] ** 2\n",
    "\n",
    "print(df_data_naive.head())\n",
    "\n",
    "square_error = df_data_naive['square_error'].mean()\n",
    "print(f'Square Error of the Naive Approach is {square_error:.3f}')"
   ]
  },
  {
   "cell_type": "code",
   "execution_count": 11,
   "metadata": {},
   "outputs": [
    {
     "data": {
      "text/plain": [
       "<bound method DataFrame.info of                      Choke  Psig  APsig  BOPD (Oil)  MMSCFD (Gas)  BWPD (Air)\n",
       "Datetime                                                                     \n",
       "2021-05-15 21:00:00     38   935    320     698.900         4.980      23.600\n",
       "2021-05-15 21:15:00     38   935    321     822.500         4.988      32.600\n",
       "2021-05-15 21:30:00     38   940    318     661.400         5.070      26.200\n",
       "2021-05-15 21:45:00     38   938    317     737.700         5.061      29.200\n",
       "2021-05-15 22:00:00     38   940    319     661.400         5.078      26.200\n",
       "...                    ...   ...    ...         ...           ...         ...\n",
       "2021-01-06 11:00:00     42   988    327     817.992         7.534      17.856\n",
       "2021-01-06 11:15:00     42   990    328     809.208         7.545      17.664\n",
       "2021-01-06 11:30:00     42   986    326     810.048         7.522      17.664\n",
       "2021-01-06 11:45:00     42   985    325     827.664         7.510      18.048\n",
       "2021-01-06 12:00:00     42   988    328     817.992         7.545      17.856\n",
       "\n",
       "[106 rows x 6 columns]>"
      ]
     },
     "execution_count": 11,
     "metadata": {},
     "output_type": "execute_result"
    }
   ],
   "source": [
    "df_data.info"
   ]
  },
  {
   "cell_type": "code",
   "execution_count": 12,
   "metadata": {},
   "outputs": [
    {
     "data": {
      "text/plain": [
       "Index(['Choke', 'Psig', 'APsig', 'BOPD (Oil)', 'MMSCFD (Gas)', 'BWPD (Air)'], dtype='object')"
      ]
     },
     "execution_count": 12,
     "metadata": {},
     "output_type": "execute_result"
    }
   ],
   "source": [
    "#One-hot-encoding precipitation type and month\n",
    "df_data_LSTM = df_data.copy(deep=True)\n",
    "df_data_LSTM.columns"
   ]
  },
  {
   "cell_type": "code",
   "execution_count": 13,
   "metadata": {},
   "outputs": [],
   "source": [
    "input_data = df_data_LSTM.copy()\n",
    "input_data = input_data.reset_index(drop=False)\n",
    "input_data = input_data.drop('Datetime', axis=1)\n",
    "input_data\n",
    "targets = df_data_LSTM['BOPD (Oil)'].values\n",
    "T = 20                    #Number of timesteps to look while predicting\n",
    "D = input_data.shape[1]   #Dimensionality of the input\n",
    "N = len(input_data) - T\n"
   ]
  },
  {
   "cell_type": "code",
   "execution_count": null,
   "metadata": {},
   "outputs": [],
   "source": []
  },
  {
   "cell_type": "code",
   "execution_count": 14,
   "metadata": {},
   "outputs": [],
   "source": [
    "#Train size: 80% of the total data size\n",
    "train_size = int(len(input_data) * 0.80)\n",
    "\n",
    "# Normalization of the inputs\n",
    "scaler = MinMaxScaler()\n",
    "scaler.fit(input_data[:train_size + T - 1])\n",
    "input_data_normalized = scaler.fit_transform(input_data)"
   ]
  },
  {
   "cell_type": "code",
   "execution_count": 59,
   "metadata": {},
   "outputs": [
    {
     "data": {
      "text/plain": [
       "106"
      ]
     },
     "execution_count": 59,
     "metadata": {},
     "output_type": "execute_result"
    }
   ],
   "source": [
    "len(targets)"
   ]
  },
  {
   "cell_type": "code",
   "execution_count": 60,
   "metadata": {},
   "outputs": [],
   "source": [
    "\n",
    "# Preparing X_train and y_train\n",
    "X_train = np.zeros((train_size, T, D))\n",
    "y_train = np.zeros((train_size, 1))\n",
    "\n",
    "for t in range(train_size):\n",
    "  X_train[t, :, :] = input_data_normalized[t:t+T]\n",
    "  y_train[t] = (targets[t+T])\n",
    "\n",
    "\n",
    "# Preparing X_test and y_test\n",
    "X_test = np.zeros((N - train_size, T, D))\n",
    "y_test = np.zeros((N - train_size, 1))\n",
    "\n",
    "for i in range(N - train_size):\n",
    "  t = i + train_size\n",
    "  X_test[i, :, :] = input_data_normalized[t:t+T]\n",
    "  y_test[i] = (targets[t+T])\n",
    "\n",
    "# X_train, X_test, y_train, y_test = train_test_split(input_data_normalized, targets, test_size=0.2)\n",
    "\n",
    "# Make inputs and targets\n",
    "X_train = torch.from_numpy(X_train.astype(np.float32))\n",
    "y_train = torch.from_numpy(y_train.astype(np.float32))\n",
    "X_test = torch.from_numpy(X_test.astype(np.float32))\n",
    "y_test = torch.from_numpy(y_test.astype(np.float32))"
   ]
  },
  {
   "cell_type": "code",
   "execution_count": 61,
   "metadata": {},
   "outputs": [],
   "source": [
    "class LSTM(nn.Module):\n",
    "  def __init__(self, input_dim, hidden_dim, layer_dim, output_dim):\n",
    "    super(LSTM, self).__init__()\n",
    "    self.M = hidden_dim\n",
    "    self.L = layer_dim\n",
    "\n",
    "    self.rnn = nn.LSTM(\n",
    "        input_size=input_dim,\n",
    "        hidden_size=hidden_dim,\n",
    "        num_layers=layer_dim,\n",
    "        batch_first=True)\n",
    "    #batch_first to have (batch_dim, seq_dim, feature_dim)\n",
    "    self.fc = nn.Linear(hidden_dim, output_dim)\n",
    "\n",
    "  def forward(self, X):\n",
    "    # initial hidden state and cell state\n",
    "    h0 = torch.zeros(self.L, X.size(0), self.M).to(device)\n",
    "    c0 = torch.zeros(self.L, X.size(0), self.M).to(device)\n",
    "\n",
    "    out, (hn, cn) = self.rnn(X, (h0.detach(), c0.detach()))\n",
    "\n",
    "    # h(T) at the final time step\n",
    "    out = self.fc(out[:, -1, :])\n",
    "    return out\n"
   ]
  },
  {
   "cell_type": "code",
   "execution_count": 62,
   "metadata": {},
   "outputs": [
    {
     "data": {
      "text/plain": [
       "LSTM(\n",
       "  (rnn): LSTM(6, 512, num_layers=2, batch_first=True)\n",
       "  (fc): Linear(in_features=512, out_features=1, bias=True)\n",
       ")"
      ]
     },
     "execution_count": 62,
     "metadata": {},
     "output_type": "execute_result"
    }
   ],
   "source": [
    "model = LSTM(D, 512, 2, 1) # D is #Dimensionality of the input | 512 is hidden dimension | 2 is layer dim | 1 is output dim\n",
    "model.to(device)"
   ]
  },
  {
   "cell_type": "code",
   "execution_count": 63,
   "metadata": {},
   "outputs": [],
   "source": [
    "# Training\n",
    "def train(model,\n",
    "          learning_rate,\n",
    "          X_train,\n",
    "          y_train,\n",
    "          X_test,\n",
    "          y_test,\n",
    "          epochs=200):\n",
    "\n",
    "  # Loss and optimizer\n",
    "  criterion = nn.MSELoss()\n",
    "  optimizer = torch.optim.SGD(model.parameters(), lr=learning_rate, momentum=0.9, weight_decay=1e-4)\n",
    "\n",
    "  train_losses = np.zeros(epochs)\n",
    "  test_losses = np.zeros(epochs)\n",
    "\n",
    "  for epoch in range(epochs):\n",
    "    optimizer.zero_grad()\n",
    "\n",
    "    # Forward pass\n",
    "    outputs = model(X_train)\n",
    "    loss = criterion(outputs, y_train)\n",
    "\n",
    "    # Backpropagation\n",
    "    loss.backward()\n",
    "    optimizer.step()\n",
    "\n",
    "    #Train loss\n",
    "    train_losses[epoch] = loss.item()\n",
    "\n",
    "    # Test loss\n",
    "    test_outputs = model(X_test)\n",
    "    test_loss = criterion(test_outputs, y_test)\n",
    "    test_losses[epoch] = test_loss.item()\n",
    "\n",
    "    if (epoch + 1) % 50 == 0:\n",
    "      print(f'At epoch {epoch+1} of {epochs}, Train Loss: {loss.item():.3f}, Test Loss: {test_loss.item():.3f}')\n",
    "\n",
    "  return train_losses, test_losses"
   ]
  },
  {
   "cell_type": "code",
   "execution_count": 64,
   "metadata": {},
   "outputs": [
    {
     "name": "stdout",
     "output_type": "stream",
     "text": [
      "At epoch 50 of 100, Train Loss: inf, Test Loss: inf\n",
      "At epoch 100 of 100, Train Loss: nan, Test Loss: nan\n"
     ]
    }
   ],
   "source": [
    "# move data to GPU\n",
    "X_train, y_train = X_train.to(device), y_train.to(device)\n",
    "X_test, y_test = X_test.to(device), y_test.to(device)\n",
    "\n",
    "train_losses, test_losses = train(model,\n",
    "                                    0.01,\n",
    "                                    X_train,\n",
    "                                    y_train,\n",
    "                                    X_test,\n",
    "                                    y_test,\n",
    "                                    epochs=100)"
   ]
  },
  {
   "cell_type": "code",
   "execution_count": 65,
   "metadata": {},
   "outputs": [
    {
     "data": {
      "image/png": "[encoded data removed]",
      "text/plain": [
       "<Figure size 640x480 with 1 Axes>"
      ]
     },
     "metadata": {},
     "output_type": "display_data"
    }
   ],
   "source": [
    "# Plot the train loss and test loss per iteration\n",
    "plt.plot(train_losses, label='train loss')\n",
    "plt.plot(test_losses, label='test loss')\n",
    "plt.xlabel('epoch no')\n",
    "plt.ylabel('loss')\n",
    "plt.legend()\n",
    "plt.show()"
   ]
  },
  {
   "cell_type": "code",
   "execution_count": 66,
   "metadata": {},
   "outputs": [
    {
     "data": {
      "text/html": [
       "<div>\n",
       "<style scoped>\n",
       "    .dataframe tbody tr th:only-of-type {\n",
       "        vertical-align: middle;\n",
       "    }\n",
       "\n",
       "    .dataframe tbody tr th {\n",
       "        vertical-align: top;\n",
       "    }\n",
       "\n",
       "    .dataframe thead th {\n",
       "        text-align: right;\n",
       "    }\n",
       "</style>\n",
       "<table border=\"1\" class=\"dataframe\">\n",
       "  <thead>\n",
       "    <tr style=\"text-align: right;\">\n",
       "      <th></th>\n",
       "      <th>Datetime</th>\n",
       "      <th>Choke</th>\n",
       "      <th>Psig</th>\n",
       "      <th>APsig</th>\n",
       "      <th>BOPD (Oil)</th>\n",
       "      <th>MMSCFD (Gas)</th>\n",
       "      <th>BWPD (Air)</th>\n",
       "    </tr>\n",
       "  </thead>\n",
       "  <tbody>\n",
       "    <tr>\n",
       "      <th>0</th>\n",
       "      <td>2021-05-15 21:00:00</td>\n",
       "      <td>38</td>\n",
       "      <td>935</td>\n",
       "      <td>320</td>\n",
       "      <td>698.900</td>\n",
       "      <td>4.980</td>\n",
       "      <td>23.600</td>\n",
       "    </tr>\n",
       "    <tr>\n",
       "      <th>1</th>\n",
       "      <td>2021-05-15 21:15:00</td>\n",
       "      <td>38</td>\n",
       "      <td>935</td>\n",
       "      <td>321</td>\n",
       "      <td>822.500</td>\n",
       "      <td>4.988</td>\n",
       "      <td>32.600</td>\n",
       "    </tr>\n",
       "    <tr>\n",
       "      <th>2</th>\n",
       "      <td>2021-05-15 21:30:00</td>\n",
       "      <td>38</td>\n",
       "      <td>940</td>\n",
       "      <td>318</td>\n",
       "      <td>661.400</td>\n",
       "      <td>5.070</td>\n",
       "      <td>26.200</td>\n",
       "    </tr>\n",
       "    <tr>\n",
       "      <th>3</th>\n",
       "      <td>2021-05-15 21:45:00</td>\n",
       "      <td>38</td>\n",
       "      <td>938</td>\n",
       "      <td>317</td>\n",
       "      <td>737.700</td>\n",
       "      <td>5.061</td>\n",
       "      <td>29.200</td>\n",
       "    </tr>\n",
       "    <tr>\n",
       "      <th>4</th>\n",
       "      <td>2021-05-15 22:00:00</td>\n",
       "      <td>38</td>\n",
       "      <td>940</td>\n",
       "      <td>319</td>\n",
       "      <td>661.400</td>\n",
       "      <td>5.078</td>\n",
       "      <td>26.200</td>\n",
       "    </tr>\n",
       "    <tr>\n",
       "      <th>...</th>\n",
       "      <td>...</td>\n",
       "      <td>...</td>\n",
       "      <td>...</td>\n",
       "      <td>...</td>\n",
       "      <td>...</td>\n",
       "      <td>...</td>\n",
       "      <td>...</td>\n",
       "    </tr>\n",
       "    <tr>\n",
       "      <th>101</th>\n",
       "      <td>2021-01-06 11:00:00</td>\n",
       "      <td>42</td>\n",
       "      <td>988</td>\n",
       "      <td>327</td>\n",
       "      <td>817.992</td>\n",
       "      <td>7.534</td>\n",
       "      <td>17.856</td>\n",
       "    </tr>\n",
       "    <tr>\n",
       "      <th>102</th>\n",
       "      <td>2021-01-06 11:15:00</td>\n",
       "      <td>42</td>\n",
       "      <td>990</td>\n",
       "      <td>328</td>\n",
       "      <td>809.208</td>\n",
       "      <td>7.545</td>\n",
       "      <td>17.664</td>\n",
       "    </tr>\n",
       "    <tr>\n",
       "      <th>103</th>\n",
       "      <td>2021-01-06 11:30:00</td>\n",
       "      <td>42</td>\n",
       "      <td>986</td>\n",
       "      <td>326</td>\n",
       "      <td>810.048</td>\n",
       "      <td>7.522</td>\n",
       "      <td>17.664</td>\n",
       "    </tr>\n",
       "    <tr>\n",
       "      <th>104</th>\n",
       "      <td>2021-01-06 11:45:00</td>\n",
       "      <td>42</td>\n",
       "      <td>985</td>\n",
       "      <td>325</td>\n",
       "      <td>827.664</td>\n",
       "      <td>7.510</td>\n",
       "      <td>18.048</td>\n",
       "    </tr>\n",
       "    <tr>\n",
       "      <th>105</th>\n",
       "      <td>2021-01-06 12:00:00</td>\n",
       "      <td>42</td>\n",
       "      <td>988</td>\n",
       "      <td>328</td>\n",
       "      <td>817.992</td>\n",
       "      <td>7.545</td>\n",
       "      <td>17.856</td>\n",
       "    </tr>\n",
       "  </tbody>\n",
       "</table>\n",
       "<p>106 rows × 7 columns</p>\n",
       "</div>"
      ],
      "text/plain": [
       "               Datetime  Choke  Psig  APsig  BOPD (Oil)  MMSCFD (Gas)  \\\n",
       "0   2021-05-15 21:00:00     38   935    320     698.900         4.980   \n",
       "1   2021-05-15 21:15:00     38   935    321     822.500         4.988   \n",
       "2   2021-05-15 21:30:00     38   940    318     661.400         5.070   \n",
       "3   2021-05-15 21:45:00     38   938    317     737.700         5.061   \n",
       "4   2021-05-15 22:00:00     38   940    319     661.400         5.078   \n",
       "..                  ...    ...   ...    ...         ...           ...   \n",
       "101 2021-01-06 11:00:00     42   988    327     817.992         7.534   \n",
       "102 2021-01-06 11:15:00     42   990    328     809.208         7.545   \n",
       "103 2021-01-06 11:30:00     42   986    326     810.048         7.522   \n",
       "104 2021-01-06 11:45:00     42   985    325     827.664         7.510   \n",
       "105 2021-01-06 12:00:00     42   988    328     817.992         7.545   \n",
       "\n",
       "     BWPD (Air)  \n",
       "0        23.600  \n",
       "1        32.600  \n",
       "2        26.200  \n",
       "3        29.200  \n",
       "4        26.200  \n",
       "..          ...  \n",
       "101      17.856  \n",
       "102      17.664  \n",
       "103      17.664  \n",
       "104      18.048  \n",
       "105      17.856  \n",
       "\n",
       "[106 rows x 7 columns]"
      ]
     },
     "execution_count": 66,
     "metadata": {},
     "output_type": "execute_result"
    }
   ],
   "source": [
    "asd = df_data.reset_index(drop=False)\n",
    "asd"
   ]
  },
  {
   "cell_type": "code",
   "execution_count": 67,
   "metadata": {},
   "outputs": [],
   "source": [
    "#Checking one-step prediction performance of the model\n",
    "test_target = y_test.cpu().detach().numpy()\n",
    "test_predictions = []\n",
    "\n",
    "for i in range(len(test_target)):\n",
    "  input_ = X_test[i].reshape(1, T, D)\n",
    "  p = model(input_)[0,0].item()\n",
    "\n",
    "  # update the predictions list\n",
    "  test_predictions.append(p)\n",
    "\n"
   ]
  },
  {
   "cell_type": "code",
   "execution_count": 52,
   "metadata": {},
   "outputs": [
    {
     "data": {
      "text/plain": [
       "array([[827.664],\n",
       "       [817.992]], dtype=float32)"
      ]
     },
     "execution_count": 52,
     "metadata": {},
     "output_type": "execute_result"
    }
   ],
   "source": [
    "test_target"
   ]
  },
  {
   "cell_type": "code",
   "execution_count": 68,
   "metadata": {},
   "outputs": [],
   "source": [
    "plot_len = len(test_predictions)\n",
    "plot_df = asd[['Datetime', 'BOPD (Oil)']].copy(deep=True)\n",
    "plot_df = plot_df.iloc[-plot_len:]\n",
    "plot_df['prediction'] = test_predictions\n",
    "plot_df.set_index('Datetime', inplace=True)\n",
    "\n"
   ]
  },
  {
   "cell_type": "code",
   "execution_count": 69,
   "metadata": {},
   "outputs": [
    {
     "data": {
      "text/plain": [
       "<matplotlib.legend.Legend at 0x7ff6c4335b90>"
      ]
     },
     "execution_count": 69,
     "metadata": {},
     "output_type": "execute_result"
    },
    {
     "data": {
      "image/png": "[encoded data removed]",
      "text/plain": [
       "<Figure size 640x480 with 1 Axes>"
      ]
     },
     "metadata": {},
     "output_type": "display_data"
    }
   ],
   "source": [
    "plt.plot(plot_df['BOPD (Oil)'], label='Actual BOPD (Oil)', linewidth=1)\n",
    "plt.plot(plot_df['prediction'], label='One-step Prediction', linewidth=1)\n",
    "plt.xlabel('Datetime')\n",
    "plt.ylabel('BOPD (Oil)')\n",
    "plt.legend(loc='lower right')"
   ]
  }
 ],
 "metadata": {
  "kernelspec": {
   "display_name": "kerasenv",
   "language": "python",
   "name": "python3"
  },
  "language_info": {
   "codemirror_mode": {
    "name": "ipython",
    "version": 3
   },
   "file_extension": ".py",
   "mimetype": "text/x-python",
   "name": "python",
   "nbconvert_exporter": "python",
   "pygments_lexer": "ipython3",
   "version": "3.11.5"
  }
 },
 "nbformat": 4,
 "nbformat_minor": 2
}
